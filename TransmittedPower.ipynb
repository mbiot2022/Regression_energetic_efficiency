{
 "cells": [
  {
   "cell_type": "markdown",
   "id": "4ba7520d",
   "metadata": {},
   "source": [
    "# Introduction\n",
    "The goal of this notebook is to show how to obtain the basic DataFrames with the transmitted power data used in \"Regression-Based Law of Energy Efficiency in Wireless Sensor Networks\", submitted at the CBA 2024. \n",
    "\n",
    "The trasmitted power was calculated according two clustering methods, K-Means and grid-based clustering.\n",
    "\n",
    "\n",
    "We created two functions based on this notebook to provide the data used in the regression analysis"
   ]
  },
  {
   "cell_type": "markdown",
   "id": "5e45a8fd",
   "metadata": {},
   "source": [
    "# Importing packages and classes"
   ]
  },
  {
   "cell_type": "code",
   "execution_count": 1,
   "id": "0b65fe83",
   "metadata": {},
   "outputs": [],
   "source": [
    "#importing the basic packages used in this experiment\n",
    "import numpy as np   #package used to vectorize the created data\n",
    "import matplotlib.pyplot as plt #package/module to do and edit graphs/plots\n",
    "import pandas as pd #package to manage data in tabular/relational fashion\n",
    "import seaborn as sns #package to create plots/graphs\n",
    "from sklearn.cluster import KMeans #class to instanciate the Kmeans algorithm\n",
    "from sklearn.preprocessing import OrdinalEncoder #class to instaciate labels for the grid method\n",
    "pd.options.mode.chained_assignment = None # remove warnings outputs from pandas package"
   ]
  },
  {
   "cell_type": "code",
   "execution_count": 2,
   "id": "defad07c-231a-4a50-b25e-34cd18fd0547",
   "metadata": {},
   "outputs": [],
   "source": [
    "#importing the resource to control the generation of pseudo-random numbers\n",
    "#a resource to create seeds and make data drawing reproducible\n",
    "from numpy.random import default_rng"
   ]
  },
  {
   "cell_type": "code",
   "execution_count": 3,
   "id": "b72c6245-f204-40a4-b516-f585adcf0a05",
   "metadata": {},
   "outputs": [],
   "source": [
    "# defining the seed that will control the generation of pseudo-randoms, to guarantee the reproducibility of results and comparisons\n",
    "gera = default_rng(seed = 24)"
   ]
  },
  {
   "cell_type": "markdown",
   "id": "0cd8e73a-2e94-4d04-82dd-5038d427d2ef",
   "metadata": {},
   "source": [
    "## Setting the parameters of the experiment"
   ]
  },
  {
   "cell_type": "code",
   "execution_count": 4,
   "id": "b8e17bb8",
   "metadata": {},
   "outputs": [],
   "source": [
    "# side of the experiment area (in meters)\n",
    "L = 200\n",
    "\n",
    "# number of nodes\n",
    "N_node = 140\n",
    "\n",
    "# array with the grid partitions data\n",
    "# here, we have 3 horizontal partitions and 2 vertical pratitions \n",
    "N_grid = np.array([3,2]) \n",
    "\n",
    "# number of clusters\n",
    "# here, we have 3 times 2 = 6 clusters\n",
    "N_cluster = N_grid.prod()\n",
    "\n",
    "#number of experimental realizations conducted\n",
    "N_realiz = 100\n",
    "\n"
   ]
  },
  {
   "cell_type": "markdown",
   "id": "c6a75e0a",
   "metadata": {},
   "source": [
    "# creating tables for the data"
   ]
  },
  {
   "cell_type": "markdown",
   "id": "057accb8",
   "metadata": {},
   "source": [
    "## node and cluster labeling data"
   ]
  },
  {
   "cell_type": "code",
   "execution_count": null,
   "id": "7c4ddf80",
   "metadata": {},
   "outputs": [],
   "source": [
    "# generating the coordinates of the 140 nodes\n",
    "# we use the uniform function from the numpy package to generate random data with uniform distribution\n",
    "coord_nos = gera.uniform(0,L, size=(N_node,2,N_realiz))\n"
   ]
  },
  {
   "cell_type": "code",
   "execution_count": 5,
   "id": "f92f8498-c3b2-41bc-b3c3-0376cc66c360",
   "metadata": {},
   "outputs": [],
   "source": [
    "# creating a list of tables with the node coordinates. The list is over the number of realizations\n",
    "\n",
    "df_kmeans = [pd.DataFrame({'x':coord_nos[:,0,i],'y':coord_nos[:,1,i]}) for i in range(N_realiz)] # table for K-Means results\n",
    "df_grid = [pd.DataFrame({'x':coord_nos[:,0,i],'y':coord_nos[:,1,i]}) for i in range(N_realiz)]  # table for Grid Method results"
   ]
  },
  {
   "cell_type": "code",
   "execution_count": 6,
   "id": "a89ff665-f859-48ef-9354-4ea121f54515",
   "metadata": {},
   "outputs": [],
   "source": [
    "# create a list of instances to implement the K-Means clusterization (over the number of realizations)\n",
    "kmeans = [KMeans(n_clusters=N_cluster, n_init=20) for i in range(N_realiz)] \n",
    "\n",
    "# training and clustering the refered list of instances of K-Means \n",
    "y_pred = [kmeans[i].fit_predict(df_kmeans[i][['x','y']]) for i in range(N_realiz)] #as predições de cada nó segundo o Kmeans "
   ]
  },
  {
   "cell_type": "code",
   "execution_count": 7,
   "id": "79b8e33b-0ec1-4bb6-b8f4-2c506cf345b3",
   "metadata": {},
   "outputs": [],
   "source": [
    "# inserting the clusterization outputs to the K-Means table\n",
    "for i in range(N_realiz):\n",
    "    df_kmeans[i]['label'] = y_pred[i]\n"
   ]
  },
  {
   "cell_type": "code",
   "execution_count": 8,
   "id": "eb31a40c-b1e7-4307-b29b-a4e61764b84d",
   "metadata": {},
   "outputs": [],
   "source": [
    "# creating the instance to do labels for the grid method\n",
    "encode = OrdinalEncoder()\n",
    "\n",
    "#creating a list composed by horizontal e vertical partition label of grid method \n",
    "gride_code = [np.int32(np.ceil(df_grid[i][[\"x\",\"y\"]]*(N_grid/L))).astype(str) for i in range(N_realiz)]\n",
    "\n",
    "#creating a label with similar information of above list\n",
    "for j in range(N_realiz):\n",
    "    df_grid[j]['label'] = [''.join(gride_code[j].tolist()[i]) for i in range(N_node)]\n",
    "\n",
    "#creating the final label\n",
    "for j in range(N_realiz):\n",
    "    df_grid[j]['label'] = encode.fit_transform(np.array(df_grid[j]['label']).reshape(-1,1)).astype(int)"
   ]
  },
  {
   "cell_type": "markdown",
   "id": "f01eda74-63d7-4511-a4f8-8d789cc02d13",
   "metadata": {},
   "source": [
    "## visualizing the clusterizations according to K-Means and Grid Method"
   ]
  },
  {
   "cell_type": "code",
   "execution_count": 9,
   "id": "a8721034-e0aa-4f40-8f78-ab3207c3bb01",
   "metadata": {},
   "outputs": [
    {
     "data": {
      "image/png": "[encoded data removed]",
      "text/plain": [
       "<Figure size 640x480 with 1 Axes>"
      ]
     },
     "metadata": {},
     "output_type": "display_data"
    }
   ],
   "source": [
    "sns.scatterplot(data = df_kmeans[4], x = 'x', y = 'y', hue = 'label', style = 'label', size= 'label', palette=sns.color_palette(\"pastel\",N_cluster))\n",
    "plt.legend(fontsize = 6)\n",
    "plt.xticks([], [])\n",
    "plt.yticks([],[])\n",
    "plt.xlabel(\"\")\n",
    "plt.ylabel(\"\")\n",
    "plt.savefig('kmeans_example.png', bbox_inches='tight')"
   ]
  },
  {
   "cell_type": "code",
   "execution_count": 10,
   "id": "9c233896-d89e-452e-b534-0fc867759453",
   "metadata": {},
   "outputs": [
    {
     "data": {
      "image/png": "[encoded data removed]",
      "text/plain": [
       "<Figure size 640x480 with 1 Axes>"
      ]
     },
     "metadata": {},
     "output_type": "display_data"
    }
   ],
   "source": [
    "sns.scatterplot(data = df_grid[4], x = 'x', y = 'y', hue = 'label' , style = 'label', size= 'label', palette=sns.color_palette(\"pastel\",N_cluster))\n",
    "plt.hlines(100,0,200,linestyles='dashed',colors='grey', alpha= 0.5)\n",
    "plt.hlines(0,0,200,linestyles='dashed',colors='grey', alpha= 0.5)\n",
    "plt.hlines(200,0,200,linestyles='dashed',colors='grey', alpha= 0.5)\n",
    "plt.vlines(66.66,0, 200,linestyles='dashed',color='grey', alpha = 0.5)\n",
    "plt.vlines(133.33,0 , 200,linestyles='dashed',color = 'grey', alpha = 0.5)\n",
    "plt.vlines(0,0, 200,linestyles='dashed',color='grey', alpha = 0.5)\n",
    "plt.vlines(200,0, 200,linestyles='dashed',color='grey', alpha = 0.5)\n",
    "plt.legend(fontsize=6)\n",
    "plt.xticks([], [])\n",
    "plt.yticks([],[])\n",
    "plt.xlabel(\"\")\n",
    "plt.ylabel(\"\")\n",
    "plt.savefig('grid_example.png', bbox_inches='tight')"
   ]
  },
  {
   "cell_type": "code",
   "execution_count": 11,
   "id": "574e8853",
   "metadata": {},
   "outputs": [],
   "source": [
    "# list of the K-Means centroid coordinates (over the number of realizations)\n",
    "centroid_kmeans = [kmeans[i].cluster_centers_ for i in range(N_realiz)]\n",
    "\n",
    "# centroid coordinates for grid method\n",
    "grid_index =[np.array([[i,j]for i in range(1,N_grid[0]+1)for j in range(1,N_grid[1]+1)])for k in range(N_realiz)]\n",
    "centroid_grid = [(grid_index[i] - 0.5) * (L/N_grid) for i in range(N_realiz)]"
   ]
  },
  {
   "cell_type": "code",
   "execution_count": 12,
   "id": "f3cb2907",
   "metadata": {},
   "outputs": [],
   "source": [
    "# calculating (and inserting to table) the distance from the centroid to the node for each realization (K-Means)\n",
    "for i in range(N_realiz):\n",
    "    dif = np.linalg.norm(centroid_kmeans[i][df_kmeans[i]['label']]- np.array(df_kmeans[i][['x','y']]), axis = 1)\n",
    "    df_kmeans[i]['c_to_node'] = dif"
   ]
  },
  {
   "cell_type": "code",
   "execution_count": 13,
   "id": "28d440d6",
   "metadata": {},
   "outputs": [],
   "source": [
    "# calculating (and inserting to table) the distance from the \"centroid\" of the grid to the node for each realization\n",
    "for i in range(N_realiz):\n",
    "    dif = np.linalg.norm(centroid_grid[i][df_grid[i]['label']]- np.array(df_grid[i][['x','y']]), axis = 1)\n",
    "    df_grid[i]['c_to_node'] = dif"
   ]
  },
  {
   "cell_type": "code",
   "execution_count": 14,
   "id": "5cee6ecb",
   "metadata": {},
   "outputs": [],
   "source": [
    "# inserting the centroids to the table\n",
    "for i in range(N_realiz):\n",
    "    df_kmeans[i]['x_centroid']=centroid_kmeans[i][df_kmeans[i]['label']][:,0]\n",
    "    df_kmeans[i]['y_centroid']=centroid_kmeans[i][df_kmeans[i]['label']][:,1]"
   ]
  },
  {
   "cell_type": "code",
   "execution_count": 15,
   "id": "2276471e",
   "metadata": {},
   "outputs": [],
   "source": [
    "# inserting the centroids to the table\n",
    "for i in range(N_realiz):\n",
    "    df_grid[i]['x_centroid']=centroid_grid[i][df_grid[i]['label']][:,0]\n",
    "    df_grid[i]['y_centroid']=centroid_grid[i][df_grid[i]['label']][:,1]"
   ]
  },
  {
   "cell_type": "code",
   "execution_count": 16,
   "id": "14d82327",
   "metadata": {},
   "outputs": [],
   "source": [
    "### finding the indices of the closest nodes"
   ]
  },
  {
   "cell_type": "code",
   "execution_count": 17,
   "id": "7fb6d639",
   "metadata": {},
   "outputs": [],
   "source": [
    "indice_kmeans = [[df_kmeans[j][df_kmeans[j]['label'] == i]['c_to_node'].idxmin() for i in range(N_cluster)] for j in range(N_realiz)]\n",
    "indice_grid = [[df_grid[j][df_grid[j]['label'] == i]['c_to_node'].idxmin() for i in range(N_cluster)] for j in range(N_realiz)]"
   ]
  },
  {
   "cell_type": "markdown",
   "id": "36f033c2",
   "metadata": {},
   "source": [
    "### breaking down the data into tables for each realization and cluster"
   ]
  },
  {
   "cell_type": "code",
   "execution_count": 18,
   "id": "0b67f855",
   "metadata": {},
   "outputs": [],
   "source": [
    "df_rc_kmeans = [[df_kmeans[j][df_kmeans[j]['label']==i] for i in range(N_cluster)] for j in range(N_realiz)]\n",
    "df_rc_grid = [[df_grid[j][df_grid[j]['label']==i] for i in range(N_cluster)] for j in range(N_realiz)]"
   ]
  },
  {
   "cell_type": "code",
   "execution_count": 19,
   "id": "31d8c083-d137-46df-8e82-180a14cedab5",
   "metadata": {},
   "outputs": [],
   "source": [
    "# inserting head coordinate columns into DataFrames for each realization and each clusterfor j in range(N_realiz):\n",
    "for j in range(N_realiz):\n",
    "    for i in range(N_cluster):\n",
    "            df_rc_kmeans[j][i]['x_head'] = df_rc_kmeans[j][i].loc[indice_kmeans[j][i]][0]\n",
    "            df_rc_kmeans[j][i]['y_head'] = df_rc_kmeans[j][i].loc[indice_kmeans[j][i]][1]"
   ]
  },
  {
   "cell_type": "code",
   "execution_count": 20,
   "id": "c09f75ef",
   "metadata": {},
   "outputs": [],
   "source": [
    "# inserting head coordinate columns into DataFrames for each realization and each clusterfor j in range(N_realiz):\n",
    "for j in range(N_realiz):\n",
    "    for i in range(N_cluster):\n",
    "            df_rc_grid[j][i]['x_head'] = df_rc_grid[j][i].loc[indice_grid[j][i]][0]\n",
    "            df_rc_grid[j][i]['y_head'] = df_rc_grid[j][i].loc[indice_grid[j][i]][1]"
   ]
  },
  {
   "cell_type": "code",
   "execution_count": 23,
   "id": "c72c23d1-086a-4e62-89f9-70e42f8dfc65",
   "metadata": {},
   "outputs": [],
   "source": [
    "#calculating and inserting to the tables the distances between head to nodes\n",
    "for j in range(N_realiz):\n",
    "    for i in range(N_cluster):\n",
    "        dif_k = np.array(df_rc_kmeans[j][i][['x_head','y_head']])- np.array(df_rc_kmeans[j][i][['x','y']])\n",
    "        df_rc_kmeans[j][i]['h_to_node'] = np.linalg.norm(dif_k, axis = 1)\n",
    "        dif_g = np.array(df_rc_grid[j][i][['x_head','y_head']])- np.array(df_rc_grid[j][i][['x','y']])\n",
    "        df_rc_grid[j][i]['h_to_node'] = np.linalg.norm(dif_g, axis = 1)"
   ]
  },
  {
   "cell_type": "code",
   "execution_count": null,
   "id": "edb2d5f2",
   "metadata": {},
   "outputs": [],
   "source": [
    "# exclude the head node to the data\n",
    "# the table df_rc_kmeans_no_head exclude the head node and the table df_rc_kmeans_heads has the head node line\n",
    "df_rc_kmeans_no_head = [[df_rc_kmeans[j][i][df_rc_kmeans[j][i]['x'] != df_rc_kmeans[j][i].loc[indice_kmeans[j][i]][0]] for i in range(N_cluster)] for j in range(N_realiz)]\n",
    "df_rc_kmeans_heads = [[df_rc_kmeans[j][i][df_rc_kmeans[j][i]['x'] == df_rc_kmeans[j][i].loc[indice_kmeans[j][i]][0]] for i in range(N_cluster)] for j in range(N_realiz)]"
   ]
  },
  {
   "cell_type": "code",
   "execution_count": null,
   "id": "3cdaec6f",
   "metadata": {},
   "outputs": [],
   "source": [
    "#calculate the distances between head node and base station (sink) and inserting it in the table\n",
    "for j in range(N_realiz):\n",
    "    for i in range(N_cluster):\n",
    "        dife_k = np.array(df_rc_kmeans_heads[j][i][['x_head','y_head']])- np.array([L,L])\n",
    "        df_rc_kmeans_heads[j][i]['h_to_sink'] = np.linalg.norm(dife_k, axis = 1)\n"
   ]
  },
  {
   "cell_type": "code",
   "execution_count": null,
   "id": "5f8b1515",
   "metadata": {},
   "outputs": [],
   "source": [
    "# exclude the head node to the data\n",
    "# the table df_rc_grid_no_head exclude the head node and the table df_rc_grid_heads has the head node line\n",
    "df_rc_grid_no_head = [[df_rc_grid[j][i][df_rc_grid[j][i]['x'] != df_rc_grid[j][i].loc[indice_grid[j][i]][0]] for i in range(N_cluster)] for j in range(N_realiz)]\n",
    "df_rc_grid_heads = [[df_rc_grid[j][i][df_rc_grid[j][i]['x'] == df_rc_grid[j][i].loc[indice_grid[j][i]][0]] for i in range(N_cluster)] for j in range(N_realiz)]"
   ]
  },
  {
   "cell_type": "code",
   "execution_count": null,
   "id": "b20e7aaf",
   "metadata": {},
   "outputs": [],
   "source": []
  },
  {
   "cell_type": "code",
   "execution_count": null,
   "id": "f8b69f13",
   "metadata": {},
   "outputs": [],
   "source": [
    "#calculate the distances between head node and base station (sink) and inserting it in the table\n",
    "for j in range(N_realiz):\n",
    "    for i in range(N_cluster):\n",
    "        dife_g = np.array(df_rc_grid_heads[j][i][['x_head','y_head']])- np.array([L,L])\n",
    "        df_rc_grid_heads[j][i]['h_to_sink'] = np.linalg.norm(dife_g, axis = 1)\n"
   ]
  },
  {
   "cell_type": "markdown",
   "id": "f0722dc1-9b84-4e17-a38d-975cbc374263",
   "metadata": {},
   "source": [
    "## creating the transmitted power data\n",
    "\n",
    "To do so, we must:\n",
    "* calculate the constant  $k = (\\frac{4 \\pi}{\\lambda})² P_r$,\n",
    "* where\n",
    "* $P_r$ is the power received by the head node (constant $-70$ milli decibels).\n",
    "\n",
    "* square the distances (which are in the \"h_to_node\" column)\n",
    "\n"
   ]
  },
  {
   "cell_type": "code",
   "execution_count": null,
   "id": "142621a2-abb6-4f88-ad47-c7333e070adc",
   "metadata": {},
   "outputs": [],
   "source": [
    "# speed of light\n",
    "c = 299792458.0\n",
    "freq = 2.4 * 10**9\n",
    "P_r = 0.0000001 # convert -70 thousand decibels into milliwatts\n",
    "comprimento = c / freq\n",
    "k = P_r *((4 * np.pi)/comprimento)**2 "
   ]
  },
  {
   "cell_type": "code",
   "execution_count": null,
   "id": "01f68014",
   "metadata": {},
   "outputs": [],
   "source": [
    "# transmitted power from nodes to head  \n",
    "for j in range(N_realiz):\n",
    "    for i in range(N_cluster):\n",
    "        df_rc_grid_no_head[j][i]['P_t'] = k * (df_rc_grid_no_head[j][i]['h_to_node']**2)\n",
    "        df_rc_kmeans_no_head[j][i]['P_t'] = k * (df_rc_kmeans_no_head[j][i]['h_to_node']**2)"
   ]
  },
  {
   "cell_type": "code",
   "execution_count": null,
   "id": "c5fd4b07",
   "metadata": {},
   "outputs": [],
   "source": [
    "# transmitted power from head to base station (sink)\n",
    "for j in range(N_realiz):\n",
    "    for i in range(N_cluster):\n",
    "        df_rc_grid_heads[j][i]['P_t'] = k * (df_rc_grid_heads[j][i]['h_to_sink']**2)\n",
    "        df_rc_kmeans_heads[j][i]['P_t'] = k * (df_rc_kmeans_heads[j][i]['h_to_sink']**2)"
   ]
  },
  {
   "cell_type": "code",
   "execution_count": null,
   "id": "ad0a64a7",
   "metadata": {},
   "outputs": [],
   "source": []
  }
 ],
 "metadata": {
  "kernelspec": {
   "display_name": "Python 3 (ipykernel)",
   "language": "python",
   "name": "python3"
  },
  "language_info": {
   "codemirror_mode": {
    "name": "ipython",
    "version": 3
   },
   "file_extension": ".py",
   "mimetype": "text/x-python",
   "name": "python",
   "nbconvert_exporter": "python",
   "pygments_lexer": "ipython3",
   "version": "3.12.3"
  }
 },
 "nbformat": 4,
 "nbformat_minor": 5
}
