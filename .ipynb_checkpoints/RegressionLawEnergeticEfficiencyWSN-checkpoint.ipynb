{
 "cells": [
  {
   "cell_type": "markdown",
   "id": "4ba7520d",
   "metadata": {},
   "source": [
    "# Objetivo\n",
    "\n",
    "Temos um conjunto de 128 nós dispostos, em uma região $400m \\times 400m$, via distribuição de probabilidade uniforme. Inicialmente, fixamos um conjunto de nós e comparamos resultados de performance da clusterização, via K-means, com  N = 3, 4."
   ]
  },
  {
   "cell_type": "code",
   "execution_count": 1,
   "id": "0b65fe83",
   "metadata": {},
   "outputs": [],
   "source": [
    "#from numpy.random import uniform\n",
    "#from numpy.random import choice\n",
    "\n",
    "#importando os pacotes básicos\n",
    "import numpy as np   # um pacote para vetorização dos dados\n",
    "import matplotlib.pyplot as plt # um pacote para realizar graficos/plotagem\n",
    "import pandas as pd #um pacote para tornar os dados tabulares\n",
    "import seaborn as sns #um pacote para realizar graficos mais sofisticados"
   ]
  },
  {
   "cell_type": "code",
   "execution_count": 2,
   "id": "defad07c-231a-4a50-b25e-34cd18fd0547",
   "metadata": {},
   "outputs": [],
   "source": [
    "#importando o recurso para controlar a geração dos pseudo-numeros aleatórios\n",
    "#um recurso para criar sementes e torna o sorteio de dados reprodutivel\n",
    "from numpy.random import default_rng"
   ]
  },
  {
   "cell_type": "code",
   "execution_count": 3,
   "id": "b72c6245-f204-40a4-b516-f585adcf0a05",
   "metadata": {},
   "outputs": [],
   "source": [
    "# definindo a semente que irá controlar a geração de pseudo-aletórios, para garantir a reprodutibilidade dos resultados e comparações\n",
    "gera = default_rng(seed = 24)"
   ]
  },
  {
   "cell_type": "markdown",
   "id": "0cd8e73a-2e94-4d04-82dd-5038d427d2ef",
   "metadata": {},
   "source": [
    "## colocar numero de divisões do grid e N_cluster em um pipeline !!"
   ]
  },
  {
   "cell_type": "code",
   "execution_count": 4,
   "id": "b8e17bb8",
   "metadata": {},
   "outputs": [],
   "source": [
    "# lado da área do experimento\n",
    "L = 200\n",
    "\n",
    "# numero de nós\n",
    "N_node = 140\n",
    "\n",
    "\n",
    "# numero de partições do grid\n",
    "N_grid = np.array([3,2])\n",
    "\n",
    "\n",
    "# numero de clusters \n",
    "N_cluster = N_grid.prod()\n",
    "\n",
    "#numero de realizações\n",
    "N_realiz = 100\n",
    "\n",
    "# gerando as coordenadas dos 128 nós\n",
    "# usamos a função uniform do pacote numpy para gerar dados aleatórios com distribuição uniforme\n",
    "coord_nos = gera.uniform(0,L, size=(N_node,2,N_realiz)) \n",
    "\n"
   ]
  },
  {
   "cell_type": "code",
   "execution_count": 5,
   "id": "f92f8498-c3b2-41bc-b3c3-0376cc66c360",
   "metadata": {},
   "outputs": [],
   "source": [
    "# criando a tabela com as coordenadas dos 128 nós\n",
    "# utilizamos um recurso do pacote pandas\n",
    "\n",
    "df_kmeans = [pd.DataFrame({'x':coord_nos[:,0,i],'y':coord_nos[:,1,i]}) for i in range(N_realiz)]\n",
    "df_grid = [pd.DataFrame({'x':coord_nos[:,0,i],'y':coord_nos[:,1,i]}) for i in range(N_realiz)]"
   ]
  },
  {
   "cell_type": "markdown",
   "id": "58786e2b",
   "metadata": {},
   "source": [
    "# FEITO!!!\n",
    "# fazer várias realizações de uma distribuição uniforme!!!!\n",
    "\n",
    "# A FAZER!!!\n",
    "### medir a variabilidade e valor esperados da eficiencia energetica e capacadidade do canal\n",
    "### e discutir a proposta em função da análise estatística"
   ]
  },
  {
   "cell_type": "code",
   "execution_count": 6,
   "id": "11904516",
   "metadata": {},
   "outputs": [],
   "source": [
    "#importando o método de clusterização \n",
    "from sklearn.cluster import KMeans\n",
    "\n"
   ]
  },
  {
   "cell_type": "markdown",
   "id": "d467d4ea",
   "metadata": {},
   "source": [
    "# A FAZER!!\n",
    "## ao escrever o artigo, detalhar os parametros das funções e classes usadas. Por exemplo, detalhar o n_init do KMeans"
   ]
  },
  {
   "cell_type": "code",
   "execution_count": null,
   "id": "2e258dde",
   "metadata": {},
   "outputs": [],
   "source": []
  },
  {
   "cell_type": "code",
   "execution_count": 7,
   "id": "9308c413-5ea7-4c01-b382-fccfeec31ef3",
   "metadata": {},
   "outputs": [],
   "source": [
    "# criando uma lista de objetos da classe de clusterização para cada realização\n",
    "kmeans = [KMeans(n_clusters=N_cluster, n_init=20) for i in range(N_realiz)] #instanciando a classe que contém o algoritmo Kmeans\n"
   ]
  },
  {
   "cell_type": "code",
   "execution_count": 8,
   "id": "fab3fdf3",
   "metadata": {},
   "outputs": [],
   "source": [
    "# a lista das predições para cada realização\n",
    "y_pred = [kmeans[i].fit_predict(df_kmeans[i][['x','y']]) for i in range(N_realiz)] #as predições de cada nó segundo o Kmeans "
   ]
  },
  {
   "cell_type": "code",
   "execution_count": 9,
   "id": "c2311c11",
   "metadata": {},
   "outputs": [],
   "source": [
    "# criando uma coluna com o rótulo da clusterização \n",
    "for i in range(N_realiz):\n",
    "    df_kmeans[i]['label'] = y_pred[i]\n"
   ]
  },
  {
   "cell_type": "code",
   "execution_count": 10,
   "id": "6b6d41d8",
   "metadata": {},
   "outputs": [
    {
     "data": {
      "text/html": [
       "<div>\n",
       "<style scoped>\n",
       "    .dataframe tbody tr th:only-of-type {\n",
       "        vertical-align: middle;\n",
       "    }\n",
       "\n",
       "    .dataframe tbody tr th {\n",
       "        vertical-align: top;\n",
       "    }\n",
       "\n",
       "    .dataframe thead th {\n",
       "        text-align: right;\n",
       "    }\n",
       "</style>\n",
       "<table border=\"1\" class=\"dataframe\">\n",
       "  <thead>\n",
       "    <tr style=\"text-align: right;\">\n",
       "      <th></th>\n",
       "      <th>x</th>\n",
       "      <th>y</th>\n",
       "      <th>label</th>\n",
       "    </tr>\n",
       "  </thead>\n",
       "  <tbody>\n",
       "    <tr>\n",
       "      <th>0</th>\n",
       "      <td>81.035463</td>\n",
       "      <td>28.753966</td>\n",
       "      <td>2</td>\n",
       "    </tr>\n",
       "    <tr>\n",
       "      <th>1</th>\n",
       "      <td>173.280742</td>\n",
       "      <td>163.853854</td>\n",
       "      <td>1</td>\n",
       "    </tr>\n",
       "    <tr>\n",
       "      <th>2</th>\n",
       "      <td>99.099921</td>\n",
       "      <td>170.318193</td>\n",
       "      <td>5</td>\n",
       "    </tr>\n",
       "    <tr>\n",
       "      <th>3</th>\n",
       "      <td>170.542869</td>\n",
       "      <td>66.399298</td>\n",
       "      <td>4</td>\n",
       "    </tr>\n",
       "    <tr>\n",
       "      <th>4</th>\n",
       "      <td>0.447603</td>\n",
       "      <td>9.882703</td>\n",
       "      <td>2</td>\n",
       "    </tr>\n",
       "    <tr>\n",
       "      <th>...</th>\n",
       "      <td>...</td>\n",
       "      <td>...</td>\n",
       "      <td>...</td>\n",
       "    </tr>\n",
       "    <tr>\n",
       "      <th>135</th>\n",
       "      <td>2.676738</td>\n",
       "      <td>167.621575</td>\n",
       "      <td>5</td>\n",
       "    </tr>\n",
       "    <tr>\n",
       "      <th>136</th>\n",
       "      <td>193.678915</td>\n",
       "      <td>17.273891</td>\n",
       "      <td>4</td>\n",
       "    </tr>\n",
       "    <tr>\n",
       "      <th>137</th>\n",
       "      <td>91.607456</td>\n",
       "      <td>104.484559</td>\n",
       "      <td>0</td>\n",
       "    </tr>\n",
       "    <tr>\n",
       "      <th>138</th>\n",
       "      <td>140.421254</td>\n",
       "      <td>128.016337</td>\n",
       "      <td>1</td>\n",
       "    </tr>\n",
       "    <tr>\n",
       "      <th>139</th>\n",
       "      <td>56.254279</td>\n",
       "      <td>90.904473</td>\n",
       "      <td>3</td>\n",
       "    </tr>\n",
       "  </tbody>\n",
       "</table>\n",
       "<p>140 rows × 3 columns</p>\n",
       "</div>"
      ],
      "text/plain": [
       "              x           y  label\n",
       "0     81.035463   28.753966      2\n",
       "1    173.280742  163.853854      1\n",
       "2     99.099921  170.318193      5\n",
       "3    170.542869   66.399298      4\n",
       "4      0.447603    9.882703      2\n",
       "..          ...         ...    ...\n",
       "135    2.676738  167.621575      5\n",
       "136  193.678915   17.273891      4\n",
       "137   91.607456  104.484559      0\n",
       "138  140.421254  128.016337      1\n",
       "139   56.254279   90.904473      3\n",
       "\n",
       "[140 rows x 3 columns]"
      ]
     },
     "execution_count": 10,
     "metadata": {},
     "output_type": "execute_result"
    }
   ],
   "source": [
    "df_kmeans[1]"
   ]
  },
  {
   "cell_type": "code",
   "execution_count": 11,
   "id": "5dea1219-de9c-4472-a112-d172187b8c31",
   "metadata": {},
   "outputs": [],
   "source": [
    "# importando a classe OrdinalEncoder para simplificar os rótulos do \"metodo grid\"\n",
    "from sklearn.preprocessing import OrdinalEncoder"
   ]
  },
  {
   "cell_type": "code",
   "execution_count": 12,
   "id": "f7ec7ab5-9162-4274-99e0-193a506acd7f",
   "metadata": {},
   "outputs": [],
   "source": [
    "# criando o objeto da classe OrdinalEncoder\n",
    "encode = OrdinalEncoder()"
   ]
  },
  {
   "cell_type": "code",
   "execution_count": 13,
   "id": "0b9d803e-906d-4faf-a134-1977d3cdef4e",
   "metadata": {},
   "outputs": [
    {
     "data": {
      "text/plain": [
       "array([['1', '2'],\n",
       "       ['1', '1'],\n",
       "       ['2', '1'],\n",
       "       ['3', '1'],\n",
       "       ['1', '2'],\n",
       "       ['1', '2'],\n",
       "       ['1', '2'],\n",
       "       ['2', '2'],\n",
       "       ['2', '1'],\n",
       "       ['2', '2'],\n",
       "       ['2', '1'],\n",
       "       ['3', '1'],\n",
       "       ['3', '2'],\n",
       "       ['2', '2'],\n",
       "       ['1', '1'],\n",
       "       ['2', '2'],\n",
       "       ['3', '2'],\n",
       "       ['3', '2'],\n",
       "       ['3', '1'],\n",
       "       ['1', '2'],\n",
       "       ['1', '1'],\n",
       "       ['3', '1'],\n",
       "       ['1', '1'],\n",
       "       ['1', '1'],\n",
       "       ['3', '1'],\n",
       "       ['3', '2'],\n",
       "       ['2', '2'],\n",
       "       ['2', '2'],\n",
       "       ['3', '1'],\n",
       "       ['3', '2'],\n",
       "       ['1', '2'],\n",
       "       ['2', '2'],\n",
       "       ['2', '2'],\n",
       "       ['1', '1'],\n",
       "       ['1', '2'],\n",
       "       ['1', '2'],\n",
       "       ['3', '2'],\n",
       "       ['1', '1'],\n",
       "       ['1', '1'],\n",
       "       ['3', '2'],\n",
       "       ['2', '2'],\n",
       "       ['2', '2'],\n",
       "       ['1', '2'],\n",
       "       ['3', '1'],\n",
       "       ['3', '2'],\n",
       "       ['2', '1'],\n",
       "       ['2', '2'],\n",
       "       ['1', '1'],\n",
       "       ['1', '1'],\n",
       "       ['1', '2'],\n",
       "       ['2', '2'],\n",
       "       ['2', '2'],\n",
       "       ['3', '2'],\n",
       "       ['2', '1'],\n",
       "       ['3', '2'],\n",
       "       ['3', '1'],\n",
       "       ['3', '1'],\n",
       "       ['2', '1'],\n",
       "       ['1', '2'],\n",
       "       ['2', '2'],\n",
       "       ['1', '1'],\n",
       "       ['3', '1'],\n",
       "       ['1', '2'],\n",
       "       ['1', '2'],\n",
       "       ['1', '1'],\n",
       "       ['1', '2'],\n",
       "       ['3', '2'],\n",
       "       ['1', '2'],\n",
       "       ['2', '1'],\n",
       "       ['2', '1'],\n",
       "       ['3', '1'],\n",
       "       ['1', '1'],\n",
       "       ['2', '2'],\n",
       "       ['1', '1'],\n",
       "       ['2', '1'],\n",
       "       ['2', '2'],\n",
       "       ['2', '1'],\n",
       "       ['2', '2'],\n",
       "       ['2', '2'],\n",
       "       ['3', '1'],\n",
       "       ['2', '2'],\n",
       "       ['3', '1'],\n",
       "       ['2', '2'],\n",
       "       ['2', '1'],\n",
       "       ['2', '2'],\n",
       "       ['2', '1'],\n",
       "       ['2', '1'],\n",
       "       ['2', '1'],\n",
       "       ['3', '2'],\n",
       "       ['1', '1'],\n",
       "       ['3', '2'],\n",
       "       ['1', '2'],\n",
       "       ['1', '2'],\n",
       "       ['2', '2'],\n",
       "       ['1', '2'],\n",
       "       ['2', '1'],\n",
       "       ['1', '1'],\n",
       "       ['1', '1'],\n",
       "       ['1', '2'],\n",
       "       ['3', '1'],\n",
       "       ['1', '2'],\n",
       "       ['1', '1'],\n",
       "       ['1', '2'],\n",
       "       ['1', '2'],\n",
       "       ['2', '1'],\n",
       "       ['1', '1'],\n",
       "       ['3', '1'],\n",
       "       ['2', '1'],\n",
       "       ['1', '1'],\n",
       "       ['1', '2'],\n",
       "       ['2', '2'],\n",
       "       ['1', '1'],\n",
       "       ['1', '2'],\n",
       "       ['3', '1'],\n",
       "       ['3', '2'],\n",
       "       ['2', '1'],\n",
       "       ['2', '2'],\n",
       "       ['3', '2'],\n",
       "       ['1', '1'],\n",
       "       ['3', '2'],\n",
       "       ['2', '1'],\n",
       "       ['2', '2'],\n",
       "       ['3', '1'],\n",
       "       ['1', '1'],\n",
       "       ['3', '2'],\n",
       "       ['2', '2'],\n",
       "       ['1', '1'],\n",
       "       ['3', '1'],\n",
       "       ['2', '1'],\n",
       "       ['2', '1'],\n",
       "       ['3', '1'],\n",
       "       ['2', '2'],\n",
       "       ['1', '2'],\n",
       "       ['3', '1'],\n",
       "       ['2', '2'],\n",
       "       ['1', '1'],\n",
       "       ['1', '1'],\n",
       "       ['1', '1'],\n",
       "       ['2', '2'],\n",
       "       ['1', '1']], dtype='<U11')"
      ]
     },
     "execution_count": 13,
     "metadata": {},
     "output_type": "execute_result"
    }
   ],
   "source": [
    "gride_code = [np.int32(np.ceil(df_grid[i][[\"x\",\"y\"]]*(N_grid/L))).astype(str) for i in range(N_realiz)]\n",
    "gride_code[0]"
   ]
  },
  {
   "cell_type": "code",
   "execution_count": 14,
   "id": "fabf786f-83fe-44b3-95ef-b5d88d76f1b3",
   "metadata": {},
   "outputs": [
    {
     "data": {
      "text/html": [
       "<div>\n",
       "<style scoped>\n",
       "    .dataframe tbody tr th:only-of-type {\n",
       "        vertical-align: middle;\n",
       "    }\n",
       "\n",
       "    .dataframe tbody tr th {\n",
       "        vertical-align: top;\n",
       "    }\n",
       "\n",
       "    .dataframe thead th {\n",
       "        text-align: right;\n",
       "    }\n",
       "</style>\n",
       "<table border=\"1\" class=\"dataframe\">\n",
       "  <thead>\n",
       "    <tr style=\"text-align: right;\">\n",
       "      <th></th>\n",
       "      <th>x</th>\n",
       "      <th>y</th>\n",
       "      <th>label</th>\n",
       "    </tr>\n",
       "  </thead>\n",
       "  <tbody>\n",
       "    <tr>\n",
       "      <th>0</th>\n",
       "      <td>81.035463</td>\n",
       "      <td>28.753966</td>\n",
       "      <td>21</td>\n",
       "    </tr>\n",
       "    <tr>\n",
       "      <th>1</th>\n",
       "      <td>173.280742</td>\n",
       "      <td>163.853854</td>\n",
       "      <td>32</td>\n",
       "    </tr>\n",
       "    <tr>\n",
       "      <th>2</th>\n",
       "      <td>99.099921</td>\n",
       "      <td>170.318193</td>\n",
       "      <td>22</td>\n",
       "    </tr>\n",
       "    <tr>\n",
       "      <th>3</th>\n",
       "      <td>170.542869</td>\n",
       "      <td>66.399298</td>\n",
       "      <td>31</td>\n",
       "    </tr>\n",
       "    <tr>\n",
       "      <th>4</th>\n",
       "      <td>0.447603</td>\n",
       "      <td>9.882703</td>\n",
       "      <td>11</td>\n",
       "    </tr>\n",
       "    <tr>\n",
       "      <th>...</th>\n",
       "      <td>...</td>\n",
       "      <td>...</td>\n",
       "      <td>...</td>\n",
       "    </tr>\n",
       "    <tr>\n",
       "      <th>135</th>\n",
       "      <td>2.676738</td>\n",
       "      <td>167.621575</td>\n",
       "      <td>12</td>\n",
       "    </tr>\n",
       "    <tr>\n",
       "      <th>136</th>\n",
       "      <td>193.678915</td>\n",
       "      <td>17.273891</td>\n",
       "      <td>31</td>\n",
       "    </tr>\n",
       "    <tr>\n",
       "      <th>137</th>\n",
       "      <td>91.607456</td>\n",
       "      <td>104.484559</td>\n",
       "      <td>22</td>\n",
       "    </tr>\n",
       "    <tr>\n",
       "      <th>138</th>\n",
       "      <td>140.421254</td>\n",
       "      <td>128.016337</td>\n",
       "      <td>32</td>\n",
       "    </tr>\n",
       "    <tr>\n",
       "      <th>139</th>\n",
       "      <td>56.254279</td>\n",
       "      <td>90.904473</td>\n",
       "      <td>11</td>\n",
       "    </tr>\n",
       "  </tbody>\n",
       "</table>\n",
       "<p>140 rows × 3 columns</p>\n",
       "</div>"
      ],
      "text/plain": [
       "              x           y label\n",
       "0     81.035463   28.753966    21\n",
       "1    173.280742  163.853854    32\n",
       "2     99.099921  170.318193    22\n",
       "3    170.542869   66.399298    31\n",
       "4      0.447603    9.882703    11\n",
       "..          ...         ...   ...\n",
       "135    2.676738  167.621575    12\n",
       "136  193.678915   17.273891    31\n",
       "137   91.607456  104.484559    22\n",
       "138  140.421254  128.016337    32\n",
       "139   56.254279   90.904473    11\n",
       "\n",
       "[140 rows x 3 columns]"
      ]
     },
     "execution_count": 14,
     "metadata": {},
     "output_type": "execute_result"
    }
   ],
   "source": [
    "for j in range(N_realiz):\n",
    "    df_grid[j]['label'] = [''.join(gride_code[j].tolist()[i]) for i in range(N_node)]\n",
    "\n",
    "df_grid[1]"
   ]
  },
  {
   "cell_type": "code",
   "execution_count": 15,
   "id": "5e16ce0d-dfaa-4ccd-9918-96b17d43258b",
   "metadata": {},
   "outputs": [
    {
     "data": {
      "text/html": [
       "<div>\n",
       "<style scoped>\n",
       "    .dataframe tbody tr th:only-of-type {\n",
       "        vertical-align: middle;\n",
       "    }\n",
       "\n",
       "    .dataframe tbody tr th {\n",
       "        vertical-align: top;\n",
       "    }\n",
       "\n",
       "    .dataframe thead th {\n",
       "        text-align: right;\n",
       "    }\n",
       "</style>\n",
       "<table border=\"1\" class=\"dataframe\">\n",
       "  <thead>\n",
       "    <tr style=\"text-align: right;\">\n",
       "      <th></th>\n",
       "      <th>x</th>\n",
       "      <th>y</th>\n",
       "      <th>label</th>\n",
       "    </tr>\n",
       "  </thead>\n",
       "  <tbody>\n",
       "    <tr>\n",
       "      <th>0</th>\n",
       "      <td>81.035463</td>\n",
       "      <td>28.753966</td>\n",
       "      <td>2</td>\n",
       "    </tr>\n",
       "    <tr>\n",
       "      <th>1</th>\n",
       "      <td>173.280742</td>\n",
       "      <td>163.853854</td>\n",
       "      <td>5</td>\n",
       "    </tr>\n",
       "    <tr>\n",
       "      <th>2</th>\n",
       "      <td>99.099921</td>\n",
       "      <td>170.318193</td>\n",
       "      <td>3</td>\n",
       "    </tr>\n",
       "    <tr>\n",
       "      <th>3</th>\n",
       "      <td>170.542869</td>\n",
       "      <td>66.399298</td>\n",
       "      <td>4</td>\n",
       "    </tr>\n",
       "    <tr>\n",
       "      <th>4</th>\n",
       "      <td>0.447603</td>\n",
       "      <td>9.882703</td>\n",
       "      <td>0</td>\n",
       "    </tr>\n",
       "    <tr>\n",
       "      <th>...</th>\n",
       "      <td>...</td>\n",
       "      <td>...</td>\n",
       "      <td>...</td>\n",
       "    </tr>\n",
       "    <tr>\n",
       "      <th>135</th>\n",
       "      <td>2.676738</td>\n",
       "      <td>167.621575</td>\n",
       "      <td>1</td>\n",
       "    </tr>\n",
       "    <tr>\n",
       "      <th>136</th>\n",
       "      <td>193.678915</td>\n",
       "      <td>17.273891</td>\n",
       "      <td>4</td>\n",
       "    </tr>\n",
       "    <tr>\n",
       "      <th>137</th>\n",
       "      <td>91.607456</td>\n",
       "      <td>104.484559</td>\n",
       "      <td>3</td>\n",
       "    </tr>\n",
       "    <tr>\n",
       "      <th>138</th>\n",
       "      <td>140.421254</td>\n",
       "      <td>128.016337</td>\n",
       "      <td>5</td>\n",
       "    </tr>\n",
       "    <tr>\n",
       "      <th>139</th>\n",
       "      <td>56.254279</td>\n",
       "      <td>90.904473</td>\n",
       "      <td>0</td>\n",
       "    </tr>\n",
       "  </tbody>\n",
       "</table>\n",
       "<p>140 rows × 3 columns</p>\n",
       "</div>"
      ],
      "text/plain": [
       "              x           y  label\n",
       "0     81.035463   28.753966      2\n",
       "1    173.280742  163.853854      5\n",
       "2     99.099921  170.318193      3\n",
       "3    170.542869   66.399298      4\n",
       "4      0.447603    9.882703      0\n",
       "..          ...         ...    ...\n",
       "135    2.676738  167.621575      1\n",
       "136  193.678915   17.273891      4\n",
       "137   91.607456  104.484559      3\n",
       "138  140.421254  128.016337      5\n",
       "139   56.254279   90.904473      0\n",
       "\n",
       "[140 rows x 3 columns]"
      ]
     },
     "execution_count": 15,
     "metadata": {},
     "output_type": "execute_result"
    }
   ],
   "source": [
    "for j in range(N_realiz):\n",
    "    df_grid[j]['label'] = encode.fit_transform(np.array(df_grid[j]['label']).reshape(-1,1)).astype(int)\n",
    "\n",
    "df_grid[1]"
   ]
  },
  {
   "cell_type": "markdown",
   "id": "a247fe54",
   "metadata": {},
   "source": [
    "# A FAZER!!\n",
    "## melhorar o visual e apresentação dos gráficos!!"
   ]
  },
  {
   "cell_type": "code",
   "execution_count": 16,
   "id": "822fd53b",
   "metadata": {},
   "outputs": [
    {
     "data": {
      "image/png": "[encoded data removed]",
      "text/plain": [
       "<Figure size 640x480 with 1 Axes>"
      ]
     },
     "metadata": {},
     "output_type": "display_data"
    }
   ],
   "source": [
    "sns.scatterplot(data = df_kmeans[4], x = 'x', y = 'y', hue = 'label', style = 'label', size= 'label', palette=sns.color_palette(\"pastel\",N_cluster))\n",
    "plt.legend(fontsize = 6)\n",
    "plt.xticks([], [])\n",
    "plt.yticks([],[])\n",
    "plt.xlabel(\"\")\n",
    "plt.ylabel(\"\")\n",
    "plt.savefig('kmeans_example.png', bbox_inches='tight')"
   ]
  },
  {
   "cell_type": "code",
   "execution_count": 27,
   "id": "82b9eb27-ecf6-4233-a89a-5ea644928885",
   "metadata": {},
   "outputs": [
    {
     "data": {
      "image/png": "[encoded data removed]",
      "text/plain": [
       "<Figure size 640x480 with 1 Axes>"
      ]
     },
     "metadata": {},
     "output_type": "display_data"
    }
   ],
   "source": [
    "sns.scatterplot(data = df_grid[4], x = 'x', y = 'y', hue = 'label' , style = 'label', size= 'label', palette=sns.color_palette(\"pastel\",N_cluster))\n",
    "plt.hlines(100,0,200,linestyles='dashed',colors='grey', alpha= 0.5)\n",
    "plt.hlines(0,0,200,linestyles='dashed',colors='grey', alpha= 0.5)\n",
    "plt.hlines(200,0,200,linestyles='dashed',colors='grey', alpha= 0.5)\n",
    "plt.vlines(66.66,0, 200,linestyles='dashed',color='grey', alpha = 0.5)\n",
    "plt.vlines(133.33,0 , 200,linestyles='dashed',color = 'grey', alpha = 0.5)\n",
    "plt.vlines(0,0, 200,linestyles='dashed',color='grey', alpha = 0.5)\n",
    "plt.vlines(200,0, 200,linestyles='dashed',color='grey', alpha = 0.5)\n",
    "plt.legend(fontsize=6)\n",
    "plt.xticks([], [])\n",
    "plt.yticks([],[])\n",
    "plt.xlabel(\"\")\n",
    "plt.ylabel(\"\")\n",
    "plt.savefig('grid_example.png', bbox_inches='tight')"
   ]
  },
  {
   "cell_type": "code",
   "execution_count": null,
   "id": "afe7e9a9",
   "metadata": {},
   "outputs": [],
   "source": [
    "# usando o atributo cluster_centers_ para obter as coordenadas dos centroides\n",
    "centroid_kmeans = [kmeans[i].cluster_centers_ for i in range(N_realiz)]\n",
    "centroid_kmeans"
   ]
  },
  {
   "cell_type": "code",
   "execution_count": null,
   "id": "e3637f51-7070-43aa-9473-3338c3089e75",
   "metadata": {},
   "outputs": [],
   "source": [
    "# indice dos rotulos de cada particão\n",
    "grid_index =[np.array([[i,j]for i in range(1,N_grid[0]+1)for j in range(1,N_grid[1]+1)])for k in range(N_realiz)]\n",
    "        \n",
    "        "
   ]
  },
  {
   "cell_type": "code",
   "execution_count": null,
   "id": "4483f23b-0e2d-403a-ae43-b21300b0ffec",
   "metadata": {},
   "outputs": [],
   "source": [
    "grid_index"
   ]
  },
  {
   "cell_type": "code",
   "execution_count": null,
   "id": "4dc6edd9-3d12-4027-a2ae-a49ba970afbe",
   "metadata": {},
   "outputs": [],
   "source": [
    "centroid_grid = [(grid_index[i] - 0.5) * (L/N_grid) for i in range(N_realiz)]"
   ]
  },
  {
   "cell_type": "code",
   "execution_count": null,
   "id": "f3cb2907",
   "metadata": {},
   "outputs": [],
   "source": [
    "# calculando a distancia do centroide ao nó para cada realização\n",
    "for i in range(N_realiz):\n",
    "    dif = np.linalg.norm(centroid_kmeans[i][df_kmeans[i]['label']]- np.array(df_kmeans[i][['x','y']]), axis = 1)\n",
    "    df_kmeans[i]['c_to_node'] = dif"
   ]
  },
  {
   "cell_type": "code",
   "execution_count": null,
   "id": "53edacf1",
   "metadata": {},
   "outputs": [],
   "source": [
    "df_kmeans[4]"
   ]
  },
  {
   "cell_type": "code",
   "execution_count": null,
   "id": "28d440d6",
   "metadata": {},
   "outputs": [],
   "source": [
    "# calculando a distancia do centroide ao nó para cada realização\n",
    "for i in range(N_realiz):\n",
    "    dif = np.linalg.norm(centroid_grid[i][df_grid[i]['label']]- np.array(df_grid[i][['x','y']]), axis = 1)\n",
    "    df_grid[i]['c_to_node'] = dif"
   ]
  },
  {
   "cell_type": "code",
   "execution_count": null,
   "id": "df64057d",
   "metadata": {},
   "outputs": [],
   "source": [
    "df_grid[4]"
   ]
  },
  {
   "cell_type": "code",
   "execution_count": null,
   "id": "5cee6ecb",
   "metadata": {},
   "outputs": [],
   "source": [
    "for i in range(N_realiz):\n",
    "    df_kmeans[i]['x_centroid']=centroid_kmeans[i][df_kmeans[i]['label']][:,0]\n",
    "    df_kmeans[i]['y_centroid']=centroid_kmeans[i][df_kmeans[i]['label']][:,1]"
   ]
  },
  {
   "cell_type": "code",
   "execution_count": null,
   "id": "2276471e",
   "metadata": {},
   "outputs": [],
   "source": [
    "for i in range(N_realiz):\n",
    "    df_grid[i]['x_centroid']=centroid_grid[i][df_grid[i]['label']][:,0]\n",
    "    df_grid[i]['y_centroid']=centroid_grid[i][df_grid[i]['label']][:,1]"
   ]
  },
  {
   "cell_type": "code",
   "execution_count": null,
   "id": "930b1bc3",
   "metadata": {},
   "outputs": [],
   "source": [
    "df_kmeans[3]"
   ]
  },
  {
   "cell_type": "code",
   "execution_count": null,
   "id": "7df55f80",
   "metadata": {},
   "outputs": [],
   "source": [
    "df_grid[3]"
   ]
  },
  {
   "cell_type": "code",
   "execution_count": null,
   "id": "14d82327",
   "metadata": {},
   "outputs": [],
   "source": [
    "### encontrando os índices dos nós mais próximos"
   ]
  },
  {
   "cell_type": "code",
   "execution_count": null,
   "id": "7fb6d639",
   "metadata": {},
   "outputs": [],
   "source": [
    "indice_kmeans = [[df_kmeans[j][df_kmeans[j]['label'] == i]['c_to_node'].idxmin() for i in range(N_cluster)] for j in range(N_realiz)]"
   ]
  },
  {
   "cell_type": "code",
   "execution_count": null,
   "id": "50587ffa",
   "metadata": {},
   "outputs": [],
   "source": [
    "indice_grid = [[df_grid[j][df_grid[j]['label'] == i]['c_to_node'].idxmin() for i in range(N_cluster)] for j in range(N_realiz)]"
   ]
  },
  {
   "cell_type": "code",
   "execution_count": null,
   "id": "8a1ac6c5",
   "metadata": {},
   "outputs": [],
   "source": [
    "indice_kmeans"
   ]
  },
  {
   "cell_type": "markdown",
   "id": "36f033c2",
   "metadata": {},
   "source": [
    "### criando data frames para cada realização e cluster"
   ]
  },
  {
   "cell_type": "code",
   "execution_count": null,
   "id": "0b67f855",
   "metadata": {},
   "outputs": [],
   "source": [
    "df_rc_kmeans = [[df_kmeans[j][df_kmeans[j]['label']==i] for i in range(N_cluster)] for j in range(N_realiz)]\n",
    "df_rc_grid = [[df_grid[j][df_grid[j]['label']==i] for i in range(N_cluster)] for j in range(N_realiz)]"
   ]
  },
  {
   "cell_type": "code",
   "execution_count": null,
   "id": "3f134524",
   "metadata": {},
   "outputs": [],
   "source": [
    "# realização = 33 (trigesima quarta realização)\n",
    "# cluster = 3 (quarto cluster)\n",
    "df_rc_grid[33][3]"
   ]
  },
  {
   "cell_type": "code",
   "execution_count": null,
   "id": "31d8c083-d137-46df-8e82-180a14cedab5",
   "metadata": {},
   "outputs": [],
   "source": [
    "# inserindo colunas das coordenadas do head nos DFs para cada realização e cada cluster\n",
    "for j in range(N_realiz):\n",
    "    for i in range(N_cluster):\n",
    "            df_rc_kmeans[j][i]['x_head'] = df_rc_kmeans[j][i].loc[indice_kmeans[j][i]][0]\n",
    "            df_rc_kmeans[j][i]['y_head'] = df_rc_kmeans[j][i].loc[indice_kmeans[j][i]][1]"
   ]
  },
  {
   "cell_type": "code",
   "execution_count": null,
   "id": "c09f75ef",
   "metadata": {},
   "outputs": [],
   "source": [
    "# inserindo colunas das coordenadas do head nos DFs para cada realização e cada cluster\n",
    "for j in range(N_realiz):\n",
    "    for i in range(N_cluster):\n",
    "            df_rc_grid[j][i]['x_head'] = df_rc_grid[j][i].loc[indice_grid[j][i]][0]\n",
    "            df_rc_grid[j][i]['y_head'] = df_rc_grid[j][i].loc[indice_grid[j][i]][1]"
   ]
  },
  {
   "cell_type": "code",
   "execution_count": null,
   "id": "82577143",
   "metadata": {},
   "outputs": [],
   "source": [
    "df_rc_kmeans[0][1]"
   ]
  },
  {
   "cell_type": "code",
   "execution_count": null,
   "id": "105a206b-6ca2-4ed0-8a4d-d20658424d91",
   "metadata": {},
   "outputs": [],
   "source": [
    "df_rc_grid[0][1]"
   ]
  },
  {
   "cell_type": "code",
   "execution_count": null,
   "id": "c72c23d1-086a-4e62-89f9-70e42f8dfc65",
   "metadata": {},
   "outputs": [],
   "source": [
    "for j in range(N_realiz):\n",
    "    for i in range(N_cluster):\n",
    "        dif_k = np.array(df_rc_kmeans[j][i][['x_head','y_head']])- np.array(df_rc_kmeans[j][i][['x','y']])\n",
    "        df_rc_kmeans[j][i]['h_to_node'] = np.linalg.norm(dif_k, axis = 1)\n",
    "        dif_g = np.array(df_rc_grid[j][i][['x_head','y_head']])- np.array(df_rc_grid[j][i][['x','y']])\n",
    "        df_rc_grid[j][i]['h_to_node'] = np.linalg.norm(dif_g, axis = 1)"
   ]
  },
  {
   "cell_type": "code",
   "execution_count": null,
   "id": "d6af7cc7",
   "metadata": {},
   "outputs": [],
   "source": [
    "df_rc_grid[0][1]"
   ]
  },
  {
   "cell_type": "markdown",
   "id": "009b99b5",
   "metadata": {},
   "source": [
    "vamos fazer uma analise de valor médio das colunas \"c_to_node\" e \"h_to_node\". Entretanto, vamos desconsiderar a linha do proprio head node."
   ]
  },
  {
   "cell_type": "code",
   "execution_count": null,
   "id": "edb2d5f2",
   "metadata": {},
   "outputs": [],
   "source": [
    "df_rc_kmeans_no_head = [[df_rc_kmeans[j][i][df_rc_kmeans[j][i]['x'] != df_rc_kmeans[j][i].loc[indice_kmeans[j][i]][0]] for i in range(N_cluster)] for j in range(N_realiz)]"
   ]
  },
  {
   "cell_type": "code",
   "execution_count": null,
   "id": "12265abb",
   "metadata": {},
   "outputs": [],
   "source": [
    "df_rc_kmeans_heads = [[df_rc_kmeans[j][i][df_rc_kmeans[j][i]['x'] == df_rc_kmeans[j][i].loc[indice_kmeans[j][i]][0]] for i in range(N_cluster)] for j in range(N_realiz)]"
   ]
  },
  {
   "cell_type": "code",
   "execution_count": null,
   "id": "17037e9b",
   "metadata": {},
   "outputs": [],
   "source": [
    "df_rc_kmeans_heads[66][1]"
   ]
  },
  {
   "cell_type": "code",
   "execution_count": null,
   "id": "ac4fd05e",
   "metadata": {},
   "outputs": [],
   "source": [
    "#adicionando uma coluna p/ distancia head to sink\n",
    "\n",
    "obj_kmeans = [KMeans(n_clusters=1, n_init=20) for i in range(N_realiz)]\n"
   ]
  },
  {
   "cell_type": "code",
   "execution_count": null,
   "id": "096e29b4",
   "metadata": {},
   "outputs": [],
   "source": [
    "len(df_rc_kmeans_heads)"
   ]
  },
  {
   "cell_type": "code",
   "execution_count": null,
   "id": "551bcdfe",
   "metadata": {},
   "outputs": [],
   "source": [
    "[df_rc_kmeans_heads[0][j][['x','y']] for j in range(N_cluster)]"
   ]
  },
  {
   "cell_type": "code",
   "execution_count": null,
   "id": "c9af0abf",
   "metadata": {},
   "outputs": [],
   "source": [
    "ateste = [np.array([df_rc_kmeans_heads[i][j][['x','y']] for j in range(N_cluster)]) for i in range(N_realiz)]\n",
    "for i in range(N_realiz):\n",
    "    obj_kmeans[i].fit(ateste[i].reshape(N_cluster,-1))"
   ]
  },
  {
   "cell_type": "code",
   "execution_count": null,
   "id": "3aa73232",
   "metadata": {},
   "outputs": [],
   "source": [
    "sinks = [obj_kmeans[i].cluster_centers_ for i in range(N_realiz)]"
   ]
  },
  {
   "cell_type": "code",
   "execution_count": null,
   "id": "ee973ed2",
   "metadata": {},
   "outputs": [],
   "source": [
    "len(sinks)"
   ]
  },
  {
   "cell_type": "code",
   "execution_count": null,
   "id": "43cb17bf",
   "metadata": {},
   "outputs": [],
   "source": [
    "sinks_np = np.array(sinks)\n",
    "sinks_np.reshape(100,-1)"
   ]
  },
  {
   "cell_type": "code",
   "execution_count": null,
   "id": "2e04d33a",
   "metadata": {},
   "outputs": [],
   "source": []
  },
  {
   "cell_type": "code",
   "execution_count": null,
   "id": "f943121b",
   "metadata": {},
   "outputs": [],
   "source": [
    "sinks[0].reshape(-1).shape, np.array([1.,1.]).shape"
   ]
  },
  {
   "cell_type": "code",
   "execution_count": null,
   "id": "2f693546",
   "metadata": {},
   "outputs": [],
   "source": [
    "data_df = pd.DataFrame([3, 1, 2, 4], index=['a', 'b', 'c', 'd']).transpose()\n",
    "data_df"
   ]
  },
  {
   "cell_type": "code",
   "execution_count": null,
   "id": "3b4f0fd3",
   "metadata": {},
   "outputs": [],
   "source": [
    "points_df = pd.DataFrame([3.5, 0.5, 1.75, 4.25], index=['a', 'b', 'c', 'd']).transpose()\n",
    "\n",
    "plt.figure()\n",
    "sns.barplot(data=data_df)\n",
    "sns.scatterplot(data=points_df.T, legend=False, zorder=10)"
   ]
  },
  {
   "cell_type": "code",
   "execution_count": null,
   "id": "20e448be",
   "metadata": {},
   "outputs": [],
   "source": []
  },
  {
   "cell_type": "code",
   "execution_count": null,
   "id": "a7190dde",
   "metadata": {},
   "outputs": [],
   "source": []
  },
  {
   "cell_type": "code",
   "execution_count": null,
   "id": "bbec6936",
   "metadata": {},
   "outputs": [],
   "source": []
  },
  {
   "cell_type": "code",
   "execution_count": null,
   "id": "4a662681",
   "metadata": {},
   "outputs": [],
   "source": []
  },
  {
   "cell_type": "code",
   "execution_count": null,
   "id": "3cdaec6f",
   "metadata": {},
   "outputs": [],
   "source": [
    "sink_corner = False\n",
    "\n",
    "if sink_corner:\n",
    "    for j in range(N_realiz):\n",
    "        for i in range(N_cluster):\n",
    "            dife_k = np.array(df_rc_kmeans_heads[j][i][['x_head','y_head']])- np.array([L,L])\n",
    "            df_rc_kmeans_heads[j][i]['h_to_sink'] = np.linalg.norm(dife_k, axis = 1)\n",
    "else:\n",
    "    \n",
    "    for j in range(N_realiz):\n",
    "        for i in range(N_cluster):\n",
    "            dife_k = np.array(df_rc_kmeans_heads[j][i][['x_head','y_head']])- sinks[j]\n",
    "            df_rc_kmeans_heads[j][i]['h_to_sink'] = np.linalg.norm(dife_k, axis = 1)"
   ]
  },
  {
   "cell_type": "code",
   "execution_count": null,
   "id": "5f8b1515",
   "metadata": {},
   "outputs": [],
   "source": [
    "df_rc_grid_no_head = [[df_rc_grid[j][i][df_rc_grid[j][i]['x'] != df_rc_grid[j][i].loc[indice_grid[j][i]][0]] for i in range(N_cluster)] for j in range(N_realiz)]"
   ]
  },
  {
   "cell_type": "code",
   "execution_count": null,
   "id": "b20e7aaf",
   "metadata": {},
   "outputs": [],
   "source": [
    "df_rc_grid_heads = [[df_rc_grid[j][i][df_rc_grid[j][i]['x'] == df_rc_grid[j][i].loc[indice_grid[j][i]][0]] for i in range(N_cluster)] for j in range(N_realiz)]"
   ]
  },
  {
   "cell_type": "code",
   "execution_count": null,
   "id": "f8b69f13",
   "metadata": {},
   "outputs": [],
   "source": [
    "#adicionando uma coluna p/ distancia head to sink\n",
    "\n",
    "if sink_corner:\n",
    "    for j in range(N_realiz):\n",
    "        for i in range(N_cluster):\n",
    "            dife_g = np.array(df_rc_grid_heads[j][i][['x_head','y_head']])- np.array([L,L])\n",
    "            df_rc_grid_heads[j][i]['h_to_sink'] = np.linalg.norm(dife_g, axis = 1)\n",
    "else:\n",
    "    for j in range(N_realiz):\n",
    "        for i in range(N_cluster):\n",
    "            dife_g = np.array(df_rc_grid_heads[j][i][['x_head','y_head']])- np.array([L/2.,L/2.])\n",
    "            df_rc_grid_heads[j][i]['h_to_sink'] = np.linalg.norm(dife_g, axis = 1)\n",
    "        "
   ]
  },
  {
   "cell_type": "code",
   "execution_count": null,
   "id": "2e59eea1",
   "metadata": {},
   "outputs": [],
   "source": [
    "df_rc_grid_heads[66][3]"
   ]
  },
  {
   "cell_type": "code",
   "execution_count": null,
   "id": "8a7f1b15",
   "metadata": {},
   "outputs": [],
   "source": [
    "df_rc_kmeans_heads[66][3]"
   ]
  },
  {
   "cell_type": "markdown",
   "id": "f0722dc1-9b84-4e17-a38d-975cbc374263",
   "metadata": {},
   "source": [
    "## vamos criar a coluna da potência transmitida\n",
    "\n",
    "Para tanto, devemos :\n",
    "* calcular a constante  $k = (\\frac{4 \\pi}{\\lambda})² P_r $, onde $P_r$ é a potência recebida pelo nó head (constante de $-70$ mili decibeis).\n",
    "\n",
    "* elevar ao quadrado as distâncias (que estão na coluna \"h_to_node\")\n",
    "\n"
   ]
  },
  {
   "cell_type": "code",
   "execution_count": null,
   "id": "142621a2-abb6-4f88-ad47-c7333e070adc",
   "metadata": {},
   "outputs": [],
   "source": [
    "\n",
    "c = 299792458.0\n",
    "freq = 2.4 * 10**9\n",
    "P_r = 0.0000001 # convertendo -70 mili decibeis em mili watt\n",
    "comprimento = c / freq\n",
    "k = P_r *((4 * np.pi)/comprimento)**2 "
   ]
  },
  {
   "cell_type": "code",
   "execution_count": null,
   "id": "98494d80-0296-4159-aa9e-1f0109b3ff1d",
   "metadata": {},
   "outputs": [],
   "source": [
    "comprimento , k"
   ]
  },
  {
   "cell_type": "code",
   "execution_count": null,
   "id": "01f68014",
   "metadata": {},
   "outputs": [],
   "source": [
    "for j in range(N_realiz):\n",
    "    for i in range(N_cluster):\n",
    "        df_rc_grid_no_head[j][i]['P_t'] = k * (df_rc_grid_no_head[j][i]['h_to_node']**2)\n",
    "        df_rc_kmeans_no_head[j][i]['P_t'] = k * (df_rc_kmeans_no_head[j][i]['h_to_node']**2)"
   ]
  },
  {
   "cell_type": "code",
   "execution_count": null,
   "id": "c5fd4b07",
   "metadata": {},
   "outputs": [],
   "source": [
    "for j in range(N_realiz):\n",
    "    for i in range(N_cluster):\n",
    "        df_rc_grid_heads[j][i]['P_t'] = k * (df_rc_grid_heads[j][i]['h_to_sink']**2)\n",
    "        df_rc_kmeans_heads[j][i]['P_t'] = k * (df_rc_kmeans_heads[j][i]['h_to_sink']**2)"
   ]
  },
  {
   "cell_type": "code",
   "execution_count": null,
   "id": "e76236fa",
   "metadata": {},
   "outputs": [],
   "source": [
    "df_rc_grid_heads[66][3]"
   ]
  },
  {
   "cell_type": "code",
   "execution_count": null,
   "id": "4a259c57",
   "metadata": {},
   "outputs": [],
   "source": [
    "df_rc_grid_no_head[66][3]['P_t'].sum()"
   ]
  },
  {
   "cell_type": "markdown",
   "id": "c0250446",
   "metadata": {},
   "source": [
    "# análise das distâncias médias\n",
    "\n",
    "## soma sobre os nós"
   ]
  },
  {
   "cell_type": "code",
   "execution_count": null,
   "id": "85377039",
   "metadata": {},
   "outputs": [],
   "source": [
    "\n",
    "mpath_grid_c_to_n = [[df_rc_grid_no_head[j][i]['c_to_node'].sum() for i in range(N_cluster)]for j in range(N_realiz)] \n",
    "mpath_grid_h_to_n = [[df_rc_grid_no_head[j][i]['h_to_node'].sum() for i in range(N_cluster)]for j in range(N_realiz)]\n",
    "\n",
    "mpath_kmeans_c_to_n = [[df_rc_kmeans_no_head[j][i]['c_to_node'].sum() for i in range(N_cluster)]for j in range(N_realiz)] \n",
    "mpath_kmeans_h_to_n = [[df_rc_kmeans_no_head[j][i]['h_to_node'].sum() for i in range(N_cluster)]for j in range(N_realiz)]\n"
   ]
  },
  {
   "cell_type": "code",
   "execution_count": null,
   "id": "86f37573",
   "metadata": {},
   "outputs": [],
   "source": [
    "path_grid_c_to_n = pd.DataFrame(mpath_grid_c_to_n,columns=[\"cg0\",\"cg1\",\"cg2\",\"cg3\",\"cg4\",\"cg5\"])"
   ]
  },
  {
   "cell_type": "code",
   "execution_count": null,
   "id": "ed512a5f",
   "metadata": {},
   "outputs": [],
   "source": [
    "path_kmeans_c_to_n = pd.DataFrame(mpath_kmeans_c_to_n,columns=[\"ck0\",\"ck1\",\"ck2\",\"ck3\",\"ck4\",\"ck5\"])"
   ]
  },
  {
   "cell_type": "code",
   "execution_count": null,
   "id": "2e3dc937",
   "metadata": {},
   "outputs": [],
   "source": [
    "path_grid_h_to_n = pd.DataFrame(mpath_grid_h_to_n,columns=[\"hg0\",\"hg1\",\"hg2\",\"hg3\",\"hg4\",\"hg5\"])"
   ]
  },
  {
   "cell_type": "code",
   "execution_count": null,
   "id": "d6c4cd4b",
   "metadata": {},
   "outputs": [],
   "source": [
    "path_kmeans_h_to_n = pd.DataFrame(mpath_kmeans_h_to_n,columns=[\"hk0\",\"hk1\",\"hk2\",\"hk3\",\"hk4\",\"hk5\"])"
   ]
  },
  {
   "cell_type": "code",
   "execution_count": null,
   "id": "da34a477",
   "metadata": {},
   "outputs": [],
   "source": [
    "\n",
    "path_kmeans_c_to_n.mean().mean(), path_kmeans_c_to_n.mean().std()"
   ]
  },
  {
   "cell_type": "code",
   "execution_count": null,
   "id": "e555cb74",
   "metadata": {},
   "outputs": [],
   "source": [
    "path_kmeans_c_to_n.mean()"
   ]
  },
  {
   "cell_type": "code",
   "execution_count": null,
   "id": "2dbb9517",
   "metadata": {},
   "outputs": [],
   "source": [
    "path_kmeans_c_to_n.mean().hist(), path_grid_c_to_n.mean().hist()"
   ]
  },
  {
   "cell_type": "code",
   "execution_count": null,
   "id": "aac6cc27",
   "metadata": {},
   "outputs": [],
   "source": [
    "path_grid_c_to_n.mean().mean(), path_grid_c_to_n.mean().std()"
   ]
  },
  {
   "cell_type": "markdown",
   "id": "bb5841a9",
   "metadata": {},
   "source": [
    "# Análise das distâncias médias"
   ]
  },
  {
   "cell_type": "code",
   "execution_count": null,
   "id": "8cb720be",
   "metadata": {},
   "outputs": [],
   "source": [
    "sns.histplot([path_grid_c_to_n[\"cg0\"],path_kmeans_c_to_n[\"ck0\"]], bins = 50, kde = True)"
   ]
  },
  {
   "cell_type": "code",
   "execution_count": null,
   "id": "6ad319f4",
   "metadata": {},
   "outputs": [],
   "source": [
    "sns.histplot([path_grid_h_to_n[\"hg0\"],path_kmeans_h_to_n[\"hk0\"]], bins = 50, kde = True)"
   ]
  },
  {
   "cell_type": "code",
   "execution_count": null,
   "id": "58ad7866",
   "metadata": {},
   "outputs": [],
   "source": [
    "sns.histplot([path_grid_c_to_n[\"cg0\"],path_kmeans_c_to_n[\"ck0\"],path_grid_h_to_n[\"hg0\"],path_kmeans_h_to_n[\"hk0\"]], bins = 50, kde = True)"
   ]
  },
  {
   "cell_type": "markdown",
   "id": "06132b1a",
   "metadata": {},
   "source": [
    "# análise das potencias médias\n",
    "\n",
    "## soma sobre os nós"
   ]
  },
  {
   "cell_type": "code",
   "execution_count": null,
   "id": "b23024f9",
   "metadata": {},
   "outputs": [],
   "source": [
    "mpot_grid = [[df_rc_grid_no_head[j][i]['P_t'].sum() for i in range(N_cluster)]for j in range(N_realiz)] \n",
    "mpot_kmeans = [[df_rc_kmeans_no_head[j][i]['P_t'].sum() for i in range(N_cluster)]for j in range(N_realiz)]\n",
    "\n",
    "mpot_grid_sink = [[df_rc_grid_heads[j][i]['P_t'].sum() for i in range(N_cluster)]for j in range(N_realiz)]\n",
    "mpot_kmeans_sink = [[df_rc_kmeans_heads[j][i]['P_t'].sum() for i in range(N_cluster)]for j in range(N_realiz)]"
   ]
  },
  {
   "cell_type": "code",
   "execution_count": null,
   "id": "7a12e597",
   "metadata": {},
   "outputs": [],
   "source": [
    "pot_grid = pd.DataFrame(mpot_grid,columns=[\"pg0\",\"pg1\",\"pg2\",\"pg3\",\"pg4\",\"pg5\"])"
   ]
  },
  {
   "cell_type": "code",
   "execution_count": null,
   "id": "657ea7f2",
   "metadata": {},
   "outputs": [],
   "source": [
    "pot_kmeans = pd.DataFrame(mpot_kmeans,columns=[\"pk0\",\"pk1\",\"pk2\",\"pk3\",\"pk4\",\"pk5\"])"
   ]
  },
  {
   "cell_type": "code",
   "execution_count": null,
   "id": "1b11441b",
   "metadata": {},
   "outputs": [],
   "source": [
    "pot_grid"
   ]
  },
  {
   "cell_type": "markdown",
   "id": "73ec54f1",
   "metadata": {},
   "source": [
    "# Análise das potencias médias"
   ]
  },
  {
   "cell_type": "code",
   "execution_count": null,
   "id": "08bd9c60",
   "metadata": {},
   "outputs": [],
   "source": [
    "sns.histplot([pot_grid[\"pg0\"],pot_grid[\"pg1\"],pot_grid[\"pg2\"],pot_grid[\"pg3\"],pot_grid[\"pg4\"],pot_grid['pg5']], bins = 50, kde = True)"
   ]
  },
  {
   "cell_type": "code",
   "execution_count": null,
   "id": "6bf8a307",
   "metadata": {},
   "outputs": [],
   "source": [
    "sns.histplot([pot_kmeans[\"pk0\"],pot_kmeans[\"pk1\"],pot_kmeans[\"pk2\"],pot_kmeans[\"pk3\"],pot_kmeans[\"pk4\"],pot_kmeans[\"pk5\"]], bins = 50, kde = True)"
   ]
  },
  {
   "cell_type": "code",
   "execution_count": null,
   "id": "60d3523c",
   "metadata": {},
   "outputs": [],
   "source": []
  },
  {
   "cell_type": "code",
   "execution_count": null,
   "id": "62fa1c5e",
   "metadata": {},
   "outputs": [],
   "source": [
    "# N_cluster = 6\n",
    "pot_grid.mean().sum(), pot_kmeans.mean().sum()"
   ]
  },
  {
   "cell_type": "markdown",
   "id": "451aa859",
   "metadata": {},
   "source": [
    "## fazer a regressão da lei de eficiência e a lei de comparação de eficiência"
   ]
  },
  {
   "cell_type": "code",
   "execution_count": null,
   "id": "a0d91643",
   "metadata": {},
   "outputs": [],
   "source": [
    "print(pot_grid.mean())\n",
    "print(pot_kmeans.mean())"
   ]
  },
  {
   "cell_type": "code",
   "execution_count": null,
   "id": "344fe295",
   "metadata": {},
   "outputs": [],
   "source": [
    "# N_cluster = 4\n",
    "pot_grid.sum().sum(), pot_kmeans.sum().sum()"
   ]
  },
  {
   "cell_type": "markdown",
   "id": "c97db876",
   "metadata": {},
   "source": [
    "# A FAZER!!\n",
    "## interpretar o overlap conforme N_cluster aumenta!!!"
   ]
  },
  {
   "cell_type": "markdown",
   "id": "993d147e",
   "metadata": {},
   "source": [
    "# REFAZER!!!\n",
    "## calculando a diferença entre valores médios"
   ]
  },
  {
   "cell_type": "code",
   "execution_count": null,
   "id": "6ae68b73-9775-4b11-99ec-21126bc7202a",
   "metadata": {},
   "outputs": [],
   "source": [
    "\"\"\"note que os valores são sempre negativos pois a distancia media centroide-no é \n",
    "sempre menor que distancia head-no\"\"\" \n",
    "\n",
    "#for i in range(N_cluster):\n",
    "  #  print(df_cluster_no_head[i]['c_to_node'].mean()-df_cluster_no_head[i]['h_to_node'].mean())\n"
   ]
  },
  {
   "cell_type": "code",
   "execution_count": null,
   "id": "d4270d0b",
   "metadata": {},
   "outputs": [],
   "source": [
    "#df_cluster1['c_to_node'].mean()- df_cluster1['h_to_node'].mean(),df_cluster1['c_to_node'].min()"
   ]
  },
  {
   "cell_type": "code",
   "execution_count": null,
   "id": "3a6ef21b",
   "metadata": {},
   "outputs": [],
   "source": [
    "#df_cluster2['c_to_node'].mean()-df_cluster2['h_to_node'].mean(), df_cluster2['c_to_node'].min()"
   ]
  },
  {
   "cell_type": "code",
   "execution_count": null,
   "id": "a54fee15",
   "metadata": {},
   "outputs": [],
   "source": [
    "#df_cluster3['c_to_node'].mean()-df_cluster3['h_to_node'].mean(), df_cluster3['c_to_node'].min()"
   ]
  },
  {
   "cell_type": "code",
   "execution_count": null,
   "id": "0e099d82",
   "metadata": {},
   "outputs": [],
   "source": [
    "#df_cluster"
   ]
  },
  {
   "cell_type": "code",
   "execution_count": null,
   "id": "bb0a7312-f6fa-49da-ace7-93032e010bdb",
   "metadata": {},
   "outputs": [],
   "source": [
    "#df_cluster0['P_t'] = k * (df_cluster0['h_to_node']**2)\n",
    "#df_cluster1['P_t'] = k * (df_cluster1['h_to_node']**2)\n",
    "#df_cluster2['P_t'] = k * (df_cluster2['h_to_node']**2)\n",
    "#df_cluster3['P_t'] = k * (df_cluster3['h_to_node']**2)"
   ]
  },
  {
   "cell_type": "code",
   "execution_count": null,
   "id": "01a7904f-7361-4b15-a61e-782b4031b077",
   "metadata": {},
   "outputs": [],
   "source": [
    "#df_cluster3"
   ]
  },
  {
   "cell_type": "markdown",
   "id": "b276cde4-3e4b-40c0-a9ff-8793c77d0707",
   "metadata": {},
   "source": [
    "# Gerando gráficos a partir das potencias transmitidas por cada nó"
   ]
  },
  {
   "cell_type": "code",
   "execution_count": null,
   "id": "ac10b14c",
   "metadata": {},
   "outputs": [],
   "source": [
    "#for i in range(N_cluster):\n",
    "   # df_cluster[i].drop(index = indice[i], inplace = True)"
   ]
  },
  {
   "cell_type": "code",
   "execution_count": null,
   "id": "192d1bd9-0508-4adf-b917-bf0d4ea74121",
   "metadata": {},
   "outputs": [],
   "source": [
    "# eliminando o proprio cluster head\n",
    "#df_cluster0.drop(index = indice_0, inplace = True)\n",
    "#df_cluster1.drop(index = indice_1, inplace = True)\n",
    "#df_cluster2.drop(index = indice_2, inplace = True)\n",
    "#df_cluster3.drop(index = indice_3, inplace = True)"
   ]
  },
  {
   "cell_type": "code",
   "execution_count": null,
   "id": "880e210a-0516-4b34-81c7-6b7fadd1017a",
   "metadata": {},
   "outputs": [],
   "source": [
    "#df_cluster3"
   ]
  },
  {
   "cell_type": "code",
   "execution_count": null,
   "id": "b5c89014-dd53-40c5-b132-d43480b07135",
   "metadata": {},
   "outputs": [],
   "source": [
    "#df_cluster[0]['P_t'].hist(bins= 10)"
   ]
  },
  {
   "cell_type": "code",
   "execution_count": null,
   "id": "dc272db5",
   "metadata": {},
   "outputs": [],
   "source": [
    "#df_cluster[1]['P_t'].hist(bins= 10)"
   ]
  },
  {
   "cell_type": "code",
   "execution_count": null,
   "id": "3b145d28",
   "metadata": {},
   "outputs": [],
   "source": [
    "#df_cluster[2]['P_t'].hist(bins= 10)"
   ]
  },
  {
   "cell_type": "code",
   "execution_count": null,
   "id": "591c9aac",
   "metadata": {},
   "outputs": [],
   "source": [
    "#df_cluster3['P_t'].hist(bins= 10)"
   ]
  },
  {
   "cell_type": "code",
   "execution_count": null,
   "id": "02de49a4",
   "metadata": {},
   "outputs": [],
   "source": [
    "#pot = [df_cluster[i]['P_t'].sum() for i in range(N_cluster)]"
   ]
  },
  {
   "cell_type": "code",
   "execution_count": null,
   "id": "ef7d37fb-86c7-4e06-ad72-8942351bb47b",
   "metadata": {},
   "outputs": [],
   "source": [
    "#pot = df_cluster[0]['P_t'].sum(),df_cluster[1]['P_t'].sum(),df_cluster[2]['P_t'].sum()"
   ]
  },
  {
   "cell_type": "markdown",
   "id": "e68a2deb",
   "metadata": {},
   "source": [
    "### DESCOBRIR UMA REGRA GERAL (a Lei) DE EFICIENCIA ENERGÉTICA!\n",
    "### ou seja, vamos tentar inferir uma função matemática para a eficiência com a variável N_cluster\n",
    "### de preferência que seja feita com um algoritmo de aprendizado de maquina de regressão\n",
    "\n",
    "### além disso podemos adicionar novos dados de entrada para sugerir novas Leis de eficiencia energética. "
   ]
  },
  {
   "cell_type": "code",
   "execution_count": null,
   "id": "8c383f34-4aa5-4c07-83a9-a428d425072d",
   "metadata": {},
   "outputs": [],
   "source": [
    "#np.array(pot).sum()"
   ]
  },
  {
   "cell_type": "code",
   "execution_count": null,
   "id": "e98b3b4a",
   "metadata": {},
   "outputs": [],
   "source": [
    "#plt.bar((0,1,2),pot)"
   ]
  },
  {
   "cell_type": "code",
   "execution_count": null,
   "id": "079d2cc6",
   "metadata": {},
   "outputs": [],
   "source": []
  }
 ],
 "metadata": {
  "kernelspec": {
   "display_name": "Python 3 (ipykernel)",
   "language": "python",
   "name": "python3"
  },
  "language_info": {
   "codemirror_mode": {
    "name": "ipython",
    "version": 3
   },
   "file_extension": ".py",
   "mimetype": "text/x-python",
   "name": "python",
   "nbconvert_exporter": "python",
   "pygments_lexer": "ipython3",
   "version": "3.12.3"
  }
 },
 "nbformat": 4,
 "nbformat_minor": 5
}
