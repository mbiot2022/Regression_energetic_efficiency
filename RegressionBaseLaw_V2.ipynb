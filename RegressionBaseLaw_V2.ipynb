{
 "cells": [
  {
   "cell_type": "markdown",
   "id": "4ba7520d",
   "metadata": {},
   "source": [
    "# Goal\n",
    "The goal of this program is to obtain a \"Regression-Based Law of Energy Efficiency in Wireless Sensor Networks\",\n",
    "whose results were used to write a paper with the same name.\n",
    "We compare two clustering methods, k-means and grid-based clustering, in terms of energy efficiency.\n",
    "Nodes are uniformly distributed in a 2D area (L x L), with clusters formed using k-means.\n",
    "A baseline model uses grid clustering for comparison.\n",
    "Energy consumption analysis is based on Friis' law, and regression algorithms analyze energy patterns in the network.\n",
    "An energy efficiency law is determined through regression analysis.\n",
    "We have a set of 128 nodes arranged in a region  $400m \\times 400m$,\n",
    "via uniform probability distribution. Initially, we fixed a set of nodes and compared clustering performance results, via K-means, with N = 3, 4. "
   ]
  },
  {
   "cell_type": "code",
   "execution_count": 1,
   "id": "0b65fe83",
   "metadata": {},
   "outputs": [],
   "source": [
    "# RegressionLawEnergeticEfficiencyWSN_V1.2\n",
    "# updated: 05/27/2024 - mb\n",
    "#from numpy.random import uniform\n",
    "#from numpy.random import choice\n",
    "\n",
    "#importando os pacotes básicos\n",
    "import numpy as np   # um pacote para vetorização dos dados\n",
    "import matplotlib.pyplot as plt # um pacote para realizar graficos/plotagem\n",
    "import pandas as pd #um pacote para tornar os dados tabulares\n",
    "import seaborn as sns #um pacote para realizar graficos mais sofisticados"
   ]
  },
  {
   "cell_type": "code",
   "execution_count": 2,
   "id": "defad07c-231a-4a50-b25e-34cd18fd0547",
   "metadata": {},
   "outputs": [],
   "source": [
    "#importing the resource to control the generation of pseudo-random numbers\n",
    "#a resource to create seeds and make data drawing reproducible\n",
    "from numpy.random import default_rng"
   ]
  },
  {
   "cell_type": "code",
   "execution_count": 3,
   "id": "b72c6245-f204-40a4-b516-f585adcf0a05",
   "metadata": {},
   "outputs": [],
   "source": [
    "# defining the seed that will control the generation of pseudo-randoms, to guarantee the reproducibility of results and comparisons\n",
    "gera = default_rng(seed = 24)"
   ]
  },
  {
   "cell_type": "markdown",
   "id": "0cd8e73a-2e94-4d04-82dd-5038d427d2ef",
   "metadata": {},
   "source": [
    "## Setting the parameters of grid partitions and nodes"
   ]
  },
  {
   "cell_type": "code",
   "execution_count": 4,
   "id": "b8e17bb8",
   "metadata": {},
   "outputs": [],
   "source": [
    "# side of the experiment area\n",
    "L = 200\n",
    "\n",
    "# number of nodes\n",
    "N_node = 140\n",
    "\n",
    "# number of grid partitions\n",
    "N_grid = np.array([3,2])\n",
    "\n",
    "# number of clusters\n",
    "N_cluster = N_grid.prod()\n",
    "\n",
    "#number of achievements\n",
    "N_realiz = 100\n",
    "\n",
    "# generating the coordinates of the 128 nodes\n",
    "# we use the uniform function from the numpy package to generate random data with uniform distribution\n",
    "coord_nos = gera.uniform(0,L, size=(N_node,2,N_realiz))\n"
   ]
  },
  {
   "cell_type": "code",
   "execution_count": 5,
   "id": "f92f8498-c3b2-41bc-b3c3-0376cc66c360",
   "metadata": {},
   "outputs": [],
   "source": [
    "# creating the table with the coordinates of the 128 nodes\n",
    "# a resource from the pandas package is used\n",
    "\n",
    "df_kmeans = [pd.DataFrame({'x':coord_nos[:,0,i],'y':coord_nos[:,1,i]}) for i in range(N_realiz)]\n",
    "df_grid = [pd.DataFrame({'x':coord_nos[:,0,i],'y':coord_nos[:,1,i]}) for i in range(N_realiz)]"
   ]
  },
  {
   "cell_type": "code",
   "execution_count": null,
   "id": "4483f23b-0e2d-403a-ae43-b21300b0ffec",
   "metadata": {},
   "outputs": [],
   "source": [
    "grid_index"
   ]
  },
  {
   "cell_type": "code",
   "execution_count": null,
   "id": "4dc6edd9-3d12-4027-a2ae-a49ba970afbe",
   "metadata": {},
   "outputs": [],
   "source": [
    "centroid_grid = [(grid_index[i] - 0.5) * (L/N_grid) for i in range(N_realiz)]"
   ]
  },
  {
   "cell_type": "code",
   "execution_count": null,
   "id": "f3cb2907",
   "metadata": {},
   "outputs": [],
   "source": [
    "# calculating the distance from the centroid to the node for each realization (K-Means)\n",
    "for i in range(N_realiz):\n",
    "    dif = np.linalg.norm(centroid_kmeans[i][df_kmeans[i]['label']]- np.array(df_kmeans[i][['x','y']]), axis = 1)\n",
    "    df_kmeans[i]['c_to_node'] = dif"
   ]
  },
  {
   "cell_type": "code",
   "execution_count": 16,
   "id": "7820bef8-642d-4b73-b4fb-55cd5de4f1c5",
   "metadata": {},
   "outputs": [],
   "source": [
    "## Defining DataFrame for K-Means Method"
   ]
  },
  {
   "cell_type": "code",
   "execution_count": null,
   "id": "53edacf1",
   "metadata": {},
   "outputs": [],
   "source": [
    "df_kmeans[4]"
   ]
  },
  {
   "cell_type": "code",
   "execution_count": null,
   "id": "28d440d6",
   "metadata": {},
   "outputs": [],
   "source": [
    "# calculating the distance from the \"centroid\" of the grid to the node for each realization\n",
    "for i in range(N_realiz):\n",
    "    dif = np.linalg.norm(centroid_grid[i][df_grid[i]['label']]- np.array(df_grid[i][['x','y']]), axis = 1)\n",
    "    df_grid[i]['c_to_node'] = dif"
   ]
  },
  {
   "cell_type": "code",
   "execution_count": null,
   "id": "df64057d",
   "metadata": {},
   "outputs": [],
   "source": [
    "df_grid[4]"
   ]
  },
  {
   "cell_type": "code",
   "execution_count": null,
   "id": "5cee6ecb",
   "metadata": {},
   "outputs": [],
   "source": [
    "for i in range(N_realiz):\n",
    "    df_kmeans[i]['x_centroid']=centroid_kmeans[i][df_kmeans[i]['label']][:,0]\n",
    "    df_kmeans[i]['y_centroid']=centroid_kmeans[i][df_kmeans[i]['label']][:,1]"
   ]
  },
  {
   "cell_type": "code",
   "execution_count": null,
   "id": "2276471e",
   "metadata": {},
   "outputs": [],
   "source": [
    "for i in range(N_realiz):\n",
    "    df_grid[i]['x_centroid']=centroid_grid[i][df_grid[i]['label']][:,0]\n",
    "    df_grid[i]['y_centroid']=centroid_grid[i][df_grid[i]['label']][:,1]"
   ]
  },
  {
   "cell_type": "code",
   "execution_count": 15,
   "id": "9fb85e81-a9e2-4779-9732-5e125454b649",
   "metadata": {},
   "outputs": [],
   "source": [
    "### defining data frame for method K-Means"
   ]
  },
  {
   "cell_type": "code",
   "execution_count": null,
   "id": "930b1bc3",
   "metadata": {},
   "outputs": [],
   "source": [
    "df_kmeans[3]"
   ]
  },
  {
   "cell_type": "code",
   "execution_count": null,
   "id": "7df55f80",
   "metadata": {},
   "outputs": [],
   "source": [
    "df_grid[3]"
   ]
  },
  {
   "cell_type": "code",
   "execution_count": null,
   "id": "14d82327",
   "metadata": {},
   "outputs": [],
   "source": [
    "### finding the indices of the closest nodes"
   ]
  },
  {
   "cell_type": "code",
   "execution_count": null,
   "id": "7fb6d639",
   "metadata": {},
   "outputs": [],
   "source": [
    "indice_kmeans = [[df_kmeans[j][df_kmeans[j]['label'] == i]['c_to_node'].idxmin() for i in range(N_cluster)] for j in range(N_realiz)]"
   ]
  },
  {
   "cell_type": "code",
   "execution_count": null,
   "id": "50587ffa",
   "metadata": {},
   "outputs": [],
   "source": [
    "indice_grid = [[df_grid[j][df_grid[j]['label'] == i]['c_to_node'].idxmin() for i in range(N_cluster)] for j in range(N_realiz)]"
   ]
  },
  {
   "cell_type": "code",
   "execution_count": null,
   "id": "8a1ac6c5",
   "metadata": {},
   "outputs": [],
   "source": [
    "indice_kmeans"
   ]
  },
  {
   "cell_type": "markdown",
   "id": "36f033c2",
   "metadata": {},
   "source": [
    "### creating data frames for each realization and cluster"
   ]
  },
  {
   "cell_type": "code",
   "execution_count": null,
   "id": "0b67f855",
   "metadata": {},
   "outputs": [],
   "source": [
    "df_rc_kmeans = [[df_kmeans[j][df_kmeans[j]['label']==i] for i in range(N_cluster)] for j in range(N_realiz)]\n",
    "df_rc_grid = [[df_grid[j][df_grid[j]['label']==i] for i in range(N_cluster)] for j in range(N_realiz)]"
   ]
  },
  {
   "cell_type": "code",
   "execution_count": null,
   "id": "3f134524",
   "metadata": {},
   "outputs": [],
   "source": [
    "# achievement = 33 (thirty-fourth achievement)\n",
    "# cluster = 3 (quarto cluster)\n",
    "df_rc_grid[33][3]"
   ]
  },
  {
   "cell_type": "code",
   "execution_count": null,
   "id": "31d8c083-d137-46df-8e82-180a14cedab5",
   "metadata": {},
   "outputs": [],
   "source": [
    "# inserting head coordinate columns into DataFrames for each realization and each clusterfor j in range(N_realiz):\n",
    "    for i in range(N_cluster):\n",
    "            df_rc_kmeans[j][i]['x_head'] = df_rc_kmeans[j][i].loc[indice_kmeans[j][i]][0]\n",
    "            df_rc_kmeans[j][i]['y_head'] = df_rc_kmeans[j][i].loc[indice_kmeans[j][i]][1]"
   ]
  },
  {
   "cell_type": "code",
   "execution_count": null,
   "id": "c09f75ef",
   "metadata": {},
   "outputs": [],
   "source": [
    "# inserting head coordinate columns into DataFrames for each realization and each clusterfor j in range(N_realiz):\n",
    "    for i in range(N_cluster):\n",
    "            df_rc_grid[j][i]['x_head'] = df_rc_grid[j][i].loc[indice_grid[j][i]][0]\n",
    "            df_rc_grid[j][i]['y_head'] = df_rc_grid[j][i].loc[indice_grid[j][i]][1]"
   ]
  },
  {
   "cell_type": "code",
   "execution_count": null,
   "id": "82577143",
   "metadata": {},
   "outputs": [],
   "source": [
    "df_rc_kmeans[0][1]"
   ]
  },
  {
   "cell_type": "code",
   "execution_count": null,
   "id": "105a206b-6ca2-4ed0-8a4d-d20658424d91",
   "metadata": {},
   "outputs": [],
   "source": [
    "df_rc_grid[0][1]"
   ]
  },
  {
   "cell_type": "code",
   "execution_count": null,
   "id": "c72c23d1-086a-4e62-89f9-70e42f8dfc65",
   "metadata": {},
   "outputs": [],
   "source": [
    "for j in range(N_realiz):\n",
    "    for i in range(N_cluster):\n",
    "        dif_k = np.array(df_rc_kmeans[j][i][['x_head','y_head']])- np.array(df_rc_kmeans[j][i][['x','y']])\n",
    "        df_rc_kmeans[j][i]['h_to_node'] = np.linalg.norm(dif_k, axis = 1)\n",
    "        dif_g = np.array(df_rc_grid[j][i][['x_head','y_head']])- np.array(df_rc_grid[j][i][['x','y']])\n",
    "        df_rc_grid[j][i]['h_to_node'] = np.linalg.norm(dif_g, axis = 1)"
   ]
  },
  {
   "cell_type": "code",
   "execution_count": null,
   "id": "d6af7cc7",
   "metadata": {},
   "outputs": [],
   "source": [
    "df_rc_grid[0][1]"
   ]
  },
  {
   "cell_type": "markdown",
   "id": "009b99b5",
   "metadata": {},
   "source": [
    "Let's do an average value analysis of the \"c_to_node\" and \"h_to_node\" columns. However, let's ignore the line of the head node itself."
   ]
  },
  {
   "cell_type": "code",
   "execution_count": null,
   "id": "edb2d5f2",
   "metadata": {},
   "outputs": [],
   "source": [
    "df_rc_kmeans_no_head = [[df_rc_kmeans[j][i][df_rc_kmeans[j][i]['x'] != df_rc_kmeans[j][i].loc[indice_kmeans[j][i]][0]] for i in range(N_cluster)] for j in range(N_realiz)]"
   ]
  },
  {
   "cell_type": "code",
   "execution_count": null,
   "id": "12265abb",
   "metadata": {},
   "outputs": [],
   "source": [
    "df_rc_kmeans_heads = [[df_rc_kmeans[j][i][df_rc_kmeans[j][i]['x'] == df_rc_kmeans[j][i].loc[indice_kmeans[j][i]][0]] for i in range(N_cluster)] for j in range(N_realiz)]"
   ]
  },
  {
   "cell_type": "code",
   "execution_count": null,
   "id": "17037e9b",
   "metadata": {},
   "outputs": [],
   "source": [
    "df_rc_kmeans_heads[66][1]"
   ]
  },
  {
   "cell_type": "code",
   "execution_count": null,
   "id": "ac4fd05e",
   "metadata": {},
   "outputs": [],
   "source": [
    "#adding a column for head to sink distance\n",
    "\n",
    "obj_kmeans = [KMeans(n_clusters=1, n_init=20) for i in range(N_realiz)]\n"
   ]
  },
  {
   "cell_type": "code",
   "execution_count": null,
   "id": "096e29b4",
   "metadata": {},
   "outputs": [],
   "source": [
    "len(df_rc_kmeans_heads)"
   ]
  },
  {
   "cell_type": "code",
   "execution_count": null,
   "id": "551bcdfe",
   "metadata": {},
   "outputs": [],
   "source": [
    "[df_rc_kmeans_heads[0][j][['x','y']] for j in range(N_cluster)]"
   ]
  },
  {
   "cell_type": "code",
   "execution_count": null,
   "id": "c9af0abf",
   "metadata": {},
   "outputs": [],
   "source": [
    "ateste = [np.array([df_rc_kmeans_heads[i][j][['x','y']] for j in range(N_cluster)]) for i in range(N_realiz)]\n",
    "for i in range(N_realiz):\n",
    "    obj_kmeans[i].fit(ateste[i].reshape(N_cluster,-1))"
   ]
  },
  {
   "cell_type": "code",
   "execution_count": null,
   "id": "3aa73232",
   "metadata": {},
   "outputs": [],
   "source": [
    "sinks = [obj_kmeans[i].cluster_centers_ for i in range(N_realiz)]"
   ]
  },
  {
   "cell_type": "code",
   "execution_count": null,
   "id": "ee973ed2",
   "metadata": {},
   "outputs": [],
   "source": [
    "len(sinks)"
   ]
  },
  {
   "cell_type": "code",
   "execution_count": null,
   "id": "43cb17bf",
   "metadata": {},
   "outputs": [],
   "source": [
    "sinks_np = np.array(sinks)\n",
    "sinks_np.reshape(100,-1)"
   ]
  },
  {
   "cell_type": "code",
   "execution_count": null,
   "id": "2e04d33a",
   "metadata": {},
   "outputs": [],
   "source": []
  },
  {
   "cell_type": "code",
   "execution_count": null,
   "id": "f943121b",
   "metadata": {},
   "outputs": [],
   "source": [
    "sinks[0].reshape(-1).shape, np.array([1.,1.]).shape"
   ]
  },
  {
   "cell_type": "code",
   "execution_count": null,
   "id": "2f693546",
   "metadata": {},
   "outputs": [],
   "source": [
    "data_df = pd.DataFrame([3, 1, 2, 4], index=['a', 'b', 'c', 'd']).transpose()\n",
    "data_df"
   ]
  },
  {
   "cell_type": "code",
   "execution_count": null,
   "id": "3b4f0fd3",
   "metadata": {},
   "outputs": [],
   "source": [
    "points_df = pd.DataFrame([3.5, 0.5, 1.75, 4.25], index=['a', 'b', 'c', 'd']).transpose()\n",
    "\n",
    "plt.figure()\n",
    "sns.barplot(data=data_df)\n",
    "sns.scatterplot(data=points_df.T, legend=False, zorder=10)"
   ]
  },
  {
   "cell_type": "code",
   "execution_count": null,
   "id": "3cdaec6f",
   "metadata": {},
   "outputs": [],
   "source": [
    "sink_corner = False\n",
    "\n",
    "if sink_corner:\n",
    "    for j in range(N_realiz):\n",
    "        for i in range(N_cluster):\n",
    "            dife_k = np.array(df_rc_kmeans_heads[j][i][['x_head','y_head']])- np.array([L,L])\n",
    "            df_rc_kmeans_heads[j][i]['h_to_sink'] = np.linalg.norm(dife_k, axis = 1)\n",
    "else:\n",
    "    \n",
    "    for j in range(N_realiz):\n",
    "        for i in range(N_cluster):\n",
    "            dife_k = np.array(df_rc_kmeans_heads[j][i][['x_head','y_head']])- sinks[j]\n",
    "            df_rc_kmeans_heads[j][i]['h_to_sink'] = np.linalg.norm(dife_k, axis = 1)"
   ]
  },
  {
   "cell_type": "code",
   "execution_count": null,
   "id": "5f8b1515",
   "metadata": {},
   "outputs": [],
   "source": [
    "df_rc_grid_no_head = [[df_rc_grid[j][i][df_rc_grid[j][i]['x'] != df_rc_grid[j][i].loc[indice_grid[j][i]][0]] for i in range(N_cluster)] for j in range(N_realiz)]"
   ]
  },
  {
   "cell_type": "code",
   "execution_count": null,
   "id": "b20e7aaf",
   "metadata": {},
   "outputs": [],
   "source": [
    "df_rc_grid_heads = [[df_rc_grid[j][i][df_rc_grid[j][i]['x'] == df_rc_grid[j][i].loc[indice_grid[j][i]][0]] for i in range(N_cluster)] for j in range(N_realiz)]"
   ]
  },
  {
   "cell_type": "code",
   "execution_count": null,
   "id": "f8b69f13",
   "metadata": {},
   "outputs": [],
   "source": [
    "#adding a column for head to sink distance\n",
    "\n",
    "if sink_corner:\n",
    "    for j in range(N_realiz):\n",
    "        for i in range(N_cluster):\n",
    "            dife_g = np.array(df_rc_grid_heads[j][i][['x_head','y_head']])- np.array([L,L])\n",
    "            df_rc_grid_heads[j][i]['h_to_sink'] = np.linalg.norm(dife_g, axis = 1)\n",
    "else:\n",
    "    for j in range(N_realiz):\n",
    "        for i in range(N_cluster):\n",
    "            dife_g = np.array(df_rc_grid_heads[j][i][['x_head','y_head']])- np.array([L/2.,L/2.])\n",
    "            df_rc_grid_heads[j][i]['h_to_sink'] = np.linalg.norm(dife_g, axis = 1)\n",
    "        "
   ]
  },
  {
   "cell_type": "code",
   "execution_count": null,
   "id": "2e59eea1",
   "metadata": {},
   "outputs": [],
   "source": [
    "df_rc_grid_heads[66][3]"
   ]
  },
  {
   "cell_type": "code",
   "execution_count": null,
   "id": "8a7f1b15",
   "metadata": {},
   "outputs": [],
   "source": [
    "df_rc_kmeans_heads[66][3]"
   ]
  },
  {
   "cell_type": "markdown",
   "id": "f0722dc1-9b84-4e17-a38d-975cbc374263",
   "metadata": {},
   "source": [
    "## let's create the transmitted power column\n",
    "\n",
    "To do so, we must:\n",
    "* calculate the constant  $k = (\\frac{4 \\pi}{\\lambda})² P_r$,\n",
    "* where\n",
    "* $P_r$ is the power received by the head node (constant $-70$ milli decibels).\n",
    "\n",
    "* square the distances (which are in the \"h_to_node\" column)\n",
    "\n"
   ]
  },
  {
   "cell_type": "code",
   "execution_count": null,
   "id": "142621a2-abb6-4f88-ad47-c7333e070adc",
   "metadata": {},
   "outputs": [],
   "source": [
    "# speed of light\n",
    "c = 299792458.0\n",
    "freq = 2.4 * 10**9\n",
    "P_r = 0.0000001 # convert -70 thousand decibels into milliwatts\n",
    "comprimento = c / freq\n",
    "k = P_r *((4 * np.pi)/comprimento)**2 "
   ]
  },
  {
   "cell_type": "code",
   "execution_count": null,
   "id": "98494d80-0296-4159-aa9e-1f0109b3ff1d",
   "metadata": {},
   "outputs": [],
   "source": [
    "comprimento , k"
   ]
  },
  {
   "cell_type": "code",
   "execution_count": null,
   "id": "01f68014",
   "metadata": {},
   "outputs": [],
   "source": [
    "for j in range(N_realiz):\n",
    "    for i in range(N_cluster):\n",
    "        df_rc_grid_no_head[j][i]['P_t'] = k * (df_rc_grid_no_head[j][i]['h_to_node']**2)\n",
    "        df_rc_kmeans_no_head[j][i]['P_t'] = k * (df_rc_kmeans_no_head[j][i]['h_to_node']**2)"
   ]
  },
  {
   "cell_type": "code",
   "execution_count": null,
   "id": "c5fd4b07",
   "metadata": {},
   "outputs": [],
   "source": [
    "for j in range(N_realiz):\n",
    "    for i in range(N_cluster):\n",
    "        df_rc_grid_heads[j][i]['P_t'] = k * (df_rc_grid_heads[j][i]['h_to_sink']**2)\n",
    "        df_rc_kmeans_heads[j][i]['P_t'] = k * (df_rc_kmeans_heads[j][i]['h_to_sink']**2)"
   ]
  },
  {
   "cell_type": "code",
   "execution_count": null,
   "id": "e76236fa",
   "metadata": {},
   "outputs": [],
   "source": [
    "df_rc_grid_heads[66][3]"
   ]
  },
  {
   "cell_type": "code",
   "execution_count": null,
   "id": "4a259c57",
   "metadata": {},
   "outputs": [],
   "source": [
    "df_rc_grid_no_head[66][3]['P_t'].sum()"
   ]
  },
  {
   "cell_type": "markdown",
   "id": "c0250446",
   "metadata": {},
   "source": [
    "# analysis of average distances\n",
    "\n",
    "## sum over nodes"
   ]
  },
  {
   "cell_type": "code",
   "execution_count": null,
   "id": "85377039",
   "metadata": {},
   "outputs": [],
   "source": [
    "\n",
    "mpath_grid_c_to_n = [[df_rc_grid_no_head[j][i]['c_to_node'].sum() for i in range(N_cluster)]for j in range(N_realiz)] \n",
    "mpath_grid_h_to_n = [[df_rc_grid_no_head[j][i]['h_to_node'].sum() for i in range(N_cluster)]for j in range(N_realiz)]\n",
    "\n",
    "mpath_kmeans_c_to_n = [[df_rc_kmeans_no_head[j][i]['c_to_node'].sum() for i in range(N_cluster)]for j in range(N_realiz)] \n",
    "mpath_kmeans_h_to_n = [[df_rc_kmeans_no_head[j][i]['h_to_node'].sum() for i in range(N_cluster)]for j in range(N_realiz)]\n"
   ]
  },
  {
   "cell_type": "code",
   "execution_count": null,
   "id": "86f37573",
   "metadata": {},
   "outputs": [],
   "source": [
    "path_grid_c_to_n = pd.DataFrame(mpath_grid_c_to_n,columns=[\"cg0\",\"cg1\",\"cg2\",\"cg3\",\"cg4\",\"cg5\"])"
   ]
  },
  {
   "cell_type": "code",
   "execution_count": null,
   "id": "ed512a5f",
   "metadata": {},
   "outputs": [],
   "source": [
    "path_kmeans_c_to_n = pd.DataFrame(mpath_kmeans_c_to_n,columns=[\"ck0\",\"ck1\",\"ck2\",\"ck3\",\"ck4\",\"ck5\"])"
   ]
  },
  {
   "cell_type": "code",
   "execution_count": null,
   "id": "2e3dc937",
   "metadata": {},
   "outputs": [],
   "source": [
    "path_grid_h_to_n = pd.DataFrame(mpath_grid_h_to_n,columns=[\"hg0\",\"hg1\",\"hg2\",\"hg3\",\"hg4\",\"hg5\"])"
   ]
  },
  {
   "cell_type": "code",
   "execution_count": null,
   "id": "d6c4cd4b",
   "metadata": {},
   "outputs": [],
   "source": [
    "path_kmeans_h_to_n = pd.DataFrame(mpath_kmeans_h_to_n,columns=[\"hk0\",\"hk1\",\"hk2\",\"hk3\",\"hk4\",\"hk5\"])"
   ]
  },
  {
   "cell_type": "code",
   "execution_count": null,
   "id": "da34a477",
   "metadata": {},
   "outputs": [],
   "source": [
    "\n",
    "path_kmeans_c_to_n.mean().mean(), path_kmeans_c_to_n.mean().std()"
   ]
  },
  {
   "cell_type": "code",
   "execution_count": null,
   "id": "e555cb74",
   "metadata": {},
   "outputs": [],
   "source": [
    "path_kmeans_c_to_n.mean()"
   ]
  },
  {
   "cell_type": "code",
   "execution_count": null,
   "id": "2dbb9517",
   "metadata": {},
   "outputs": [],
   "source": [
    "path_kmeans_c_to_n.mean().hist(), path_grid_c_to_n.mean().hist()"
   ]
  },
  {
   "cell_type": "code",
   "execution_count": null,
   "id": "aac6cc27",
   "metadata": {},
   "outputs": [],
   "source": [
    "path_grid_c_to_n.mean().mean(), path_grid_c_to_n.mean().std()"
   ]
  },
  {
   "cell_type": "markdown",
   "id": "bb5841a9",
   "metadata": {},
   "source": [
    "# Analysis of average distances"
   ]
  },
  {
   "cell_type": "code",
   "execution_count": null,
   "id": "8cb720be",
   "metadata": {},
   "outputs": [],
   "source": [
    "sns.histplot([path_grid_c_to_n[\"cg0\"],path_kmeans_c_to_n[\"ck0\"]], bins = 50, kde = True)"
   ]
  },
  {
   "cell_type": "code",
   "execution_count": null,
   "id": "6ad319f4",
   "metadata": {},
   "outputs": [],
   "source": [
    "sns.histplot([path_grid_h_to_n[\"hg0\"],path_kmeans_h_to_n[\"hk0\"]], bins = 50, kde = True)"
   ]
  },
  {
   "cell_type": "code",
   "execution_count": null,
   "id": "58ad7866",
   "metadata": {},
   "outputs": [],
   "source": [
    "sns.histplot([path_grid_c_to_n[\"cg0\"],path_kmeans_c_to_n[\"ck0\"],path_grid_h_to_n[\"hg0\"],path_kmeans_h_to_n[\"hk0\"]], bins = 50, kde = True)"
   ]
  },
  {
   "cell_type": "markdown",
   "id": "06132b1a",
   "metadata": {},
   "source": [
    "# analysis of average powers\n",
    "\n",
    "## sum over nodes"
   ]
  },
  {
   "cell_type": "code",
   "execution_count": null,
   "id": "b23024f9",
   "metadata": {},
   "outputs": [],
   "source": [
    "mpot_grid = [[df_rc_grid_no_head[j][i]['P_t'].sum() for i in range(N_cluster)]for j in range(N_realiz)] \n",
    "mpot_kmeans = [[df_rc_kmeans_no_head[j][i]['P_t'].sum() for i in range(N_cluster)]for j in range(N_realiz)]\n",
    "\n",
    "mpot_grid_sink = [[df_rc_grid_heads[j][i]['P_t'].sum() for i in range(N_cluster)]for j in range(N_realiz)]\n",
    "mpot_kmeans_sink = [[df_rc_kmeans_heads[j][i]['P_t'].sum() for i in range(N_cluster)]for j in range(N_realiz)]"
   ]
  },
  {
   "cell_type": "code",
   "execution_count": null,
   "id": "7a12e597",
   "metadata": {},
   "outputs": [],
   "source": [
    "pot_grid = pd.DataFrame(mpot_grid,columns=[\"pg0\",\"pg1\",\"pg2\",\"pg3\",\"pg4\",\"pg5\"])"
   ]
  },
  {
   "cell_type": "code",
   "execution_count": null,
   "id": "657ea7f2",
   "metadata": {},
   "outputs": [],
   "source": [
    "pot_kmeans = pd.DataFrame(mpot_kmeans,columns=[\"pk0\",\"pk1\",\"pk2\",\"pk3\",\"pk4\",\"pk5\"])"
   ]
  },
  {
   "cell_type": "code",
   "execution_count": null,
   "id": "1b11441b",
   "metadata": {},
   "outputs": [],
   "source": [
    "pot_grid"
   ]
  },
  {
   "cell_type": "markdown",
   "id": "73ec54f1",
   "metadata": {},
   "source": [
    "# Analysis of average distances"
   ]
  },
  {
   "cell_type": "code",
   "execution_count": null,
   "id": "08bd9c60",
   "metadata": {},
   "outputs": [],
   "source": [
    "sns.histplot([pot_grid[\"pg0\"],pot_grid[\"pg1\"],pot_grid[\"pg2\"],pot_grid[\"pg3\"],pot_grid[\"pg4\"],pot_grid['pg5']], bins = 50, kde = True)"
   ]
  },
  {
   "cell_type": "code",
   "execution_count": null,
   "id": "6bf8a307",
   "metadata": {},
   "outputs": [],
   "source": [
    "sns.histplot([pot_kmeans[\"pk0\"],pot_kmeans[\"pk1\"],pot_kmeans[\"pk2\"],pot_kmeans[\"pk3\"],pot_kmeans[\"pk4\"],pot_kmeans[\"pk5\"]], bins = 50, kde = True)"
   ]
  },
  {
   "cell_type": "code",
   "execution_count": null,
   "id": "60d3523c",
   "metadata": {},
   "outputs": [],
   "source": []
  },
  {
   "cell_type": "code",
   "execution_count": null,
   "id": "62fa1c5e",
   "metadata": {},
   "outputs": [],
   "source": [
    "# N_cluster = 6\n",
    "pot_grid.mean().sum(), pot_kmeans.mean().sum()"
   ]
  },
  {
   "cell_type": "markdown",
   "id": "451aa859",
   "metadata": {},
   "source": [
    "## do the regression of the efficiency law and the efficiency comparison law"
   ]
  },
  {
   "cell_type": "code",
   "execution_count": null,
   "id": "a0d91643",
   "metadata": {},
   "outputs": [],
   "source": [
    "print(pot_grid.mean())\n",
    "print(pot_kmeans.mean())"
   ]
  },
  {
   "cell_type": "code",
   "execution_count": null,
   "id": "344fe295",
   "metadata": {},
   "outputs": [],
   "source": [
    "# N_cluster = 4\n",
    "pot_grid.sum().sum(), pot_kmeans.sum().sum()"
   ]
  },
  {
   "cell_type": "markdown",
   "id": "c97db876",
   "metadata": {},
   "source": [
    "# calculating the difference between average values"
   ]
  },
  {
   "cell_type": "code",
   "execution_count": 14,
   "id": "020e30dc-b75c-49a6-b0b3-be99862a4367",
   "metadata": {},
   "outputs": [],
   "source": []
  },
  {
   "cell_type": "code",
   "execution_count": null,
   "id": "27c55ec9-8233-47a7-9c83-2574376a5f8e",
   "metadata": {},
   "outputs": [],
   "source": [
    "#for i in range(N_cluster):\n",
    "  #  print(df_cluster_no_head[i]['c_to_node'].mean()-df_cluster_no_head[i]['h_to_node'].mean())"
   ]
  },
  {
   "cell_type": "code",
   "execution_count": 4,
   "id": "d4270d0b",
   "metadata": {},
   "outputs": [],
   "source": [
    "#df_cluster1['c_to_node'].mean()- df_cluster1['h_to_node'].mean(),df_cluster1['c_to_node'].min()"
   ]
  },
  {
   "cell_type": "code",
   "execution_count": null,
   "id": "3a6ef21b",
   "metadata": {},
   "outputs": [],
   "source": [
    "#df_cluster2['c_to_node'].mean()-df_cluster2['h_to_node'].mean(), df_cluster2['c_to_node'].min()"
   ]
  },
  {
   "cell_type": "code",
   "execution_count": null,
   "id": "a54fee15",
   "metadata": {},
   "outputs": [],
   "source": [
    "#df_cluster3['c_to_node'].mean()-df_cluster3['h_to_node'].mean(), df_cluster3['c_to_node'].min()"
   ]
  },
  {
   "cell_type": "code",
   "execution_count": null,
   "id": "0e099d82",
   "metadata": {},
   "outputs": [],
   "source": [
    "#df_cluster"
   ]
  },
  {
   "cell_type": "code",
   "execution_count": null,
   "id": "bb0a7312-f6fa-49da-ace7-93032e010bdb",
   "metadata": {},
   "outputs": [],
   "source": [
    "#df_cluster0['P_t'] = k * (df_cluster0['h_to_node']**2)\n",
    "#df_cluster1['P_t'] = k * (df_cluster1['h_to_node']**2)\n",
    "#df_cluster2['P_t'] = k * (df_cluster2['h_to_node']**2)\n",
    "#df_cluster3['P_t'] = k * (df_cluster3['h_to_node']**2)"
   ]
  },
  {
   "cell_type": "code",
   "execution_count": null,
   "id": "01a7904f-7361-4b15-a61e-782b4031b077",
   "metadata": {},
   "outputs": [],
   "source": [
    "#df_cluster3"
   ]
  },
  {
   "cell_type": "markdown",
   "id": "b276cde4-3e4b-40c0-a9ff-8793c77d0707",
   "metadata": {},
   "source": [
    "# Generating graphs from the powers transmitted by each node"
   ]
  },
  {
   "cell_type": "code",
   "execution_count": null,
   "id": "ac10b14c",
   "metadata": {},
   "outputs": [],
   "source": [
    "#for i in range(N_cluster):\n",
    "   # df_cluster[i].drop(index = indice[i], inplace = True)"
   ]
  },
  {
   "cell_type": "code",
   "execution_count": null,
   "id": "192d1bd9-0508-4adf-b917-bf0d4ea74121",
   "metadata": {},
   "outputs": [],
   "source": [
    "# eliminando o próprio cluster head\n",
    "#df_cluster0.drop(index = indice_0, inplace = True)\n",
    "#df_cluster1.drop(index = indice_1, inplace = True)\n",
    "#df_cluster2.drop(index = indice_2, inplace = True)\n",
    "#df_cluster3.drop(index = indice_3, inplace = True)"
   ]
  },
  {
   "cell_type": "code",
   "execution_count": null,
   "id": "880e210a-0516-4b34-81c7-6b7fadd1017a",
   "metadata": {},
   "outputs": [],
   "source": [
    "#df_cluster3"
   ]
  },
  {
   "cell_type": "code",
   "execution_count": null,
   "id": "b5c89014-dd53-40c5-b132-d43480b07135",
   "metadata": {},
   "outputs": [],
   "source": [
    "#df_cluster[0]['P_t'].hist(bins= 10)"
   ]
  },
  {
   "cell_type": "code",
   "execution_count": null,
   "id": "dc272db5",
   "metadata": {},
   "outputs": [],
   "source": [
    "#df_cluster[1]['P_t'].hist(bins= 10)"
   ]
  },
  {
   "cell_type": "code",
   "execution_count": null,
   "id": "3b145d28",
   "metadata": {},
   "outputs": [],
   "source": [
    "#df_cluster[2]['P_t'].hist(bins= 10)"
   ]
  },
  {
   "cell_type": "code",
   "execution_count": null,
   "id": "591c9aac",
   "metadata": {},
   "outputs": [],
   "source": [
    "#df_cluster3['P_t'].hist(bins= 10)"
   ]
  },
  {
   "cell_type": "code",
   "execution_count": null,
   "id": "02de49a4",
   "metadata": {},
   "outputs": [],
   "source": [
    "#pot = [df_cluster[i]['P_t'].sum() for i in range(N_cluster)]"
   ]
  },
  {
   "cell_type": "code",
   "execution_count": null,
   "id": "ef7d37fb-86c7-4e06-ad72-8942351bb47b",
   "metadata": {},
   "outputs": [],
   "source": [
    "#pot = df_cluster[0]['P_t'].sum(),df_cluster[1]['P_t'].sum(),df_cluster[2]['P_t'].sum()"
   ]
  },
  {
   "cell_type": "markdown",
   "id": "e68a2deb",
   "metadata": {},
   "source": [
    "### DISCOVER A GENERAL RULE (the Law) FOR ENERGY EFFICIENCY!\n",
    "### that is, let's try to infer a mathematical function for efficiency with the variable N_cluster\n",
    "### preferably done with a regression machine learning algorithm\n",
    "\n",
    "### Additionally, we can add new input data to suggest new energy efficiency laws."
   ]
  },
  {
   "cell_type": "code",
   "execution_count": null,
   "id": "8c383f34-4aa5-4c07-83a9-a428d425072d",
   "metadata": {},
   "outputs": [],
   "source": [
    "#np.array(pot).sum()"
   ]
  },
  {
   "cell_type": "code",
   "execution_count": null,
   "id": "e98b3b4a",
   "metadata": {},
   "outputs": [],
   "source": [
    "#plt.bar((0,1,2),pot)"
   ]
  },
  {
   "cell_type": "code",
   "execution_count": null,
   "id": "079d2cc6",
   "metadata": {},
   "outputs": [],
   "source": []
  },
  {
   "cell_type": "code",
   "execution_count": null,
   "id": "15fc3abf-8474-4026-8bb2-e7586dd3ef8d",
   "metadata": {},
   "outputs": [],
   "source": []
  }
 ],
 "metadata": {
  "kernelspec": {
   "display_name": "Python 3 (ipykernel)",
   "language": "python",
   "name": "python3"
  },
  "language_info": {
   "codemirror_mode": {
    "name": "ipython",
    "version": 3
   },
   "file_extension": ".py",
   "mimetype": "text/x-python",
   "name": "python",
   "nbconvert_exporter": "python",
   "pygments_lexer": "ipython3",
   "version": "3.12.3"
  }
 },
 "nbformat": 4,
 "nbformat_minor": 5
}
