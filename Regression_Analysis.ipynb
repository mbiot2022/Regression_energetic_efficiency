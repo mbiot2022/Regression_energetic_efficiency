{
 "cells": [
  {
   "cell_type": "code",
   "execution_count": null,
   "id": "10355bad",
   "metadata": {},
   "outputs": [],
   "source": [
    "import numpy as np\n",
    "from power import kmeans, grid\n",
    "from sklearn.linear_model import LinearRegression\n",
    "import matplotlib\n",
    "import matplolib.pyplot as plt"
   ]
  },
  {
   "cell_type": "code",
   "execution_count": null,
   "id": "01e4a535",
   "metadata": {},
   "outputs": [],
   "source": [
    "#inputs used  on the functions kmeans and grid\n",
    "\n",
    "#number of clusters used on kmeans function\n",
    "N_g_kmeans = [np.array([1,1]),np.array([1,2]),np.array([1,3]),np.array([2,2]),np.array([1,5]),\n",
    "          np.array([2,3]),np.array([1,7]),np.array([2,4]),np.array([3,3]),np.array([2,5]),\n",
    "          np.array([1,11]),np.array([3,4])]\n",
    "\n",
    "#grid clusters used on grid function\n",
    "N_g_grid = [np.array([1,1]),np.array([1,2]),np.array([2,2]),\n",
    "          np.array([2,3]),np.array([2,4]),np.array([3,3])]\n",
    "\n",
    "#list of number of nodes used\n",
    "N_node = [120,150,180,210,240]\n"
   ]
  },
  {
   "cell_type": "code",
   "execution_count": null,
   "id": "9734d6f2",
   "metadata": {},
   "outputs": [],
   "source": [
    "# list of calls of kmeans function\n",
    "output_kmeans = [[kmeans(N_g,N_n) for N_g in N_grid_kmeans] for N_n in N_node]\n",
    "\n",
    "# list of calls of grid fucntion\n",
    "output_grid = [[grid(N_g,N_n) for N_g in N_grid_grid] for N_n in N_node]\n"
   ]
  },
  {
   "cell_type": "markdown",
   "id": "6a6a0965",
   "metadata": {},
   "source": [
    "# DataFrame for regression analysis\n"
   ]
  },
  {
   "cell_type": "markdown",
   "id": "e7ffd770",
   "metadata": {},
   "source": [
    "## number of clusters as predictor\n",
    "## transmitted power (from nodes to head) as target"
   ]
  },
  {
   "cell_type": "code",
   "execution_count": null,
   "id": "d3bfe42f",
   "metadata": {},
   "outputs": [],
   "source": [
    "pot_node_c = [pd.concat(\n",
    "    [pd.DataFrame(\n",
    "        {'N_grid':N_grid.prod(),'P_nodes': output_kmeans[i][j][0].sum(axis=1)}) \n",
    "     for (j,N_grid) in enumerate(N_grid_kmeans,0)\n",
    "    ] ,ignore_index=True\n",
    "         ) for (i,N_n) in enumerate(N_node,0)]"
   ]
  },
  {
   "cell_type": "markdown",
   "id": "c41a374e",
   "metadata": {},
   "source": [
    "## number of clusters as predictor\n",
    "## transmitted power (from heads to base station) as target"
   ]
  },
  {
   "cell_type": "code",
   "execution_count": null,
   "id": "60292bfb",
   "metadata": {},
   "outputs": [],
   "source": [
    "pot_head_c = [pd.concat(\n",
    "    [pd.DataFrame(\n",
    "        {'N_grid':N_grid.prod(),'P_heads': output_kmeans[i][j][1].sum(axis=1)}) \n",
    "     for (j,N_grid) in enumerate(N_grid_kmeans,0)\n",
    "    ] ,ignore_index=True\n",
    "         ) for (i,N_n) in enumerate(N_node,0)]"
   ]
  },
  {
   "cell_type": "markdown",
   "id": "9e3409a1",
   "metadata": {},
   "source": [
    "## instantiating the Linear Regression class for each DataFrame"
   ]
  },
  {
   "cell_type": "code",
   "execution_count": null,
   "id": "907c7316",
   "metadata": {},
   "outputs": [],
   "source": [
    "reg_node = [LinearRegression() for i in N_node]\n",
    "reg_head = [LinearRegression() for i in N_node]"
   ]
  },
  {
   "cell_type": "code",
   "execution_count": null,
   "id": "4ab1c08d",
   "metadata": {},
   "outputs": [],
   "source": [
    "N_f = 5 # number of nonlinear features"
   ]
  },
  {
   "cell_type": "code",
   "execution_count": null,
   "id": "0a0643cb",
   "metadata": {},
   "outputs": [],
   "source": [
    "# creating the supervised data to fit the regression\n",
    "X= [\n",
    "    np.array([(pot_node_c[j]['N_grid'])**i for i in range(1,N_f+1)]).T \n",
    "    for (j,N_n) in enumerate(N_node,0)\n",
    "    ]\n",
    "\n",
    "y_node = [pot_node_c[i]['P_nodes'] for (i,N_n) in enumerate(N_node,0)]\n",
    "\n",
    "y_head = [pot_head_c[i]['P_heads'] for (i,N_n) in enumerate(N_node,0)]"
   ]
  },
  {
   "cell_type": "code",
   "execution_count": null,
   "id": "a73f5817",
   "metadata": {},
   "outputs": [],
   "source": [
    "# fitting the models\n",
    "\n",
    "for (i,N_n) in enumerate(N_node,0):\n",
    "    reg_node[i].fit(X[i],y_node[i])\n",
    "    reg_head[i].fit(X[i],y_head[i])        \n"
   ]
  },
  {
   "cell_type": "code",
   "execution_count": null,
   "id": "02c23ee5",
   "metadata": {},
   "outputs": [],
   "source": [
    "# creating input data to plot the regression models \n",
    "x_plot = np.linspace(1,len(N_grid_kmeans),num=len(N_grid_kmeans)) \n",
    "x_predict = np.array([x_plot**i for i in range(1,N_f+1)]).T\n",
    "    "
   ]
  },
  {
   "cell_type": "code",
   "execution_count": null,
   "id": "3ec775c1",
   "metadata": {},
   "outputs": [],
   "source": [
    "# output of the regression models trasmitted power from nodes to head\n",
    "y_plot_node = [reg_node[i].predict(x_predict) for i in range(len(N_node))]"
   ]
  },
  {
   "cell_type": "code",
   "execution_count": null,
   "id": "0e8322ee",
   "metadata": {},
   "outputs": [],
   "source": [
    "# output of the regression models trasmitted power from heads to base station\n",
    "y_plot_head = [reg_head[i].predict(x_predict) for i in range(len(N_node))]"
   ]
  },
  {
   "cell_type": "markdown",
   "id": "ee7db589",
   "metadata": {},
   "source": [
    "## plots used in paper"
   ]
  },
  {
   "cell_type": "code",
   "execution_count": null,
   "id": "2975c013",
   "metadata": {},
   "outputs": [],
   "source": [
    "matplotlib.rcParams['text.usetex'] = True"
   ]
  },
  {
   "cell_type": "code",
   "execution_count": null,
   "id": "9c92f9af",
   "metadata": {},
   "outputs": [],
   "source": [
    "fig = plt.figure()\n",
    "ax1 = fig.add_subplot(111)\n",
    "x_law =np.linspace(0,12,50)\n",
    "\n",
    "ax1.scatter(x_plot, y_plot_node[0], s=10, c='b', marker=\"s\", label= \"120 nodes\")\n",
    "#ax1.plot(x_plot[1:], y_plot_node[0][0]*np.exp(-Yk[0]*x_plot[1:]) )\n",
    "ax1.scatter(x_plot,y_plot_node[1], s=10, c='r', marker=\"o\", label= \"150 nodes\")\n",
    "#ax1.plot(x_plot[1:], y_plot_node[1][0]*np.exp(-Yk[1]*x_plot[1:]) )\n",
    "ax1.scatter(x_plot,y_plot_node[2], s=20, c='g', marker=\"*\", label= \"180 nodes\")\n",
    "ax1.scatter(x_plot,y_plot_node[3], s=20, c='y', marker=\"p\", label= \"210 nodes\")\n",
    "ax1.scatter(x_plot,y_plot_node[4], s=20, c='c', marker=\"s\", label= \"240 nodes\")\n",
    "plt.title(\"transmitted power from nodes\")\n",
    "plt.legend(loc='upper right')\n",
    "plt.ylabel(\"Energy Consumption $(\\mathrm{mW})$\")\n",
    "plt.xlabel(\"Cluster Quantity\")\n",
    "plt.xticks([1,2,3,4,5,6,7,8,9,10,11,12], [1,2,3,4,5,6,7,8,9,10,11,12])\n",
    "plt.savefig('pot_nodes.png', bbox_inches='tight')"
   ]
  },
  {
   "cell_type": "code",
   "execution_count": null,
   "id": "bc1c7dbb",
   "metadata": {},
   "outputs": [],
   "source": [
    "xN = np.array([N_grid_kmeans[i].prod() for i in range(1,len(N_grid_kmeans))])\n",
    "Yk = [- np.log(y_plot_node[i][1:]/y_plot_node[i][0])/xN for i in range(len(N_node))]"
   ]
  },
  {
   "cell_type": "code",
   "execution_count": null,
   "id": "affdd60f",
   "metadata": {},
   "outputs": [],
   "source": [
    "fig = plt.figure()\n",
    "ax1 = fig.add_subplot(111)\n",
    "\n",
    "xN = np.arange(2,13)\n",
    "\n",
    "ax1.scatter(xN,Yk[0])\n",
    "ax1.scatter(xN,Yk[1])\n",
    "ax1.scatter(xN,Yk[2])\n",
    "ax1.scatter(xN,Yk[3])\n",
    "ax1.scatter(xN,Yk[4])"
   ]
  },
  {
   "cell_type": "code",
   "execution_count": null,
   "id": "d44fdb67",
   "metadata": {},
   "outputs": [],
   "source": [
    "fig = plt.figure()\n",
    "ax1 = fig.add_subplot(111)\n",
    "\n",
    "ax1.scatter(x_plot, y_plot_head[0], s=10, c='b', marker=\"s\", label= \"120 nodes\")\n",
    "ax1.scatter(x_plot,y_plot_head[1], s=10, c='r', marker=\"o\", label= \"150 nodes\")\n",
    "ax1.scatter(x_plot,y_plot_head[2], s=20, c='g', marker=\"*\", label= \"180 nodes\")\n",
    "ax1.scatter(x_plot,y_plot_head[3], s=20, c='y', marker=\"p\", label= \"210 nodes\")\n",
    "ax1.scatter(x_plot,y_plot_head[4], s=20, c='c', marker=\"s\", label= \"240 nodes\")\n",
    "plt.title(\"transmitted power from heads\")\n",
    "plt.legend(loc='upper left')\n",
    "plt.ylabel(\"Energy Consumption $(\\mathrm{mW})$\")\n",
    "plt.xlabel(\"Cluster Quantity\")\n",
    "plt.xticks([1,2,3,4,5,6,7,8,9,10,11,12], [1,2,3,4,5,6,7,8,9,10,11,12])\n",
    "plt.savefig('pot_heads.png', bbox_inches='tight')\n"
   ]
  },
  {
   "cell_type": "code",
   "execution_count": null,
   "id": "6c5f4814",
   "metadata": {},
   "outputs": [],
   "source": [
    "y_plot_tot = np.array(y_plot_node)+np.array(y_plot_head)\n",
    "fig = plt.figure()\n",
    "ax1 = fig.add_subplot(111)\n",
    "\n",
    "ax1.scatter(x_plot, y_plot_tot[0], s=10, c='b', marker=\"s\", label= \"120 nodes\")\n",
    "ax1.scatter(5,y_plot_tot[0][4], s =80, alpha = 0.3)\n",
    "ax1.scatter(x_plot,y_plot_tot[4], s=10, c='r', marker=\"o\", label= \"240 nodes\")\n",
    "ax1.scatter(9,y_plot_tot[4][8], s =80, alpha = 0.3)\n",
    "plt.title(\"total transmitted power\")\n",
    "plt.legend(loc='upper right')\n",
    "plt.ylabel(\"Energy Consumption $(\\mathrm{mW})$\")\n",
    "plt.xlabel(\"Cluster Quantity\")\n",
    "plt.xticks([1,2,3,4,5,6,7,8,9,10,11,12], [1,2,3,4,5,6,7,8,9,10,11,12])\n",
    "plt.savefig('pot_total.png', bbox_inches='tight')"
   ]
  },
  {
   "cell_type": "code",
   "execution_count": null,
   "id": "846a0e76",
   "metadata": {},
   "outputs": [],
   "source": []
  },
  {
   "cell_type": "code",
   "execution_count": null,
   "id": "9bde9f74",
   "metadata": {},
   "outputs": [],
   "source": []
  },
  {
   "cell_type": "code",
   "execution_count": null,
   "id": "2dea3174",
   "metadata": {},
   "outputs": [],
   "source": []
  },
  {
   "cell_type": "code",
   "execution_count": null,
   "id": "48d9bb57",
   "metadata": {},
   "outputs": [],
   "source": []
  }
 ],
 "metadata": {
  "kernelspec": {
   "display_name": "Python 3 (ipykernel)",
   "language": "python",
   "name": "python3"
  },
  "language_info": {
   "codemirror_mode": {
    "name": "ipython",
    "version": 3
   },
   "file_extension": ".py",
   "mimetype": "text/x-python",
   "name": "python",
   "nbconvert_exporter": "python",
   "pygments_lexer": "ipython3",
   "version": "3.12.3"
  }
 },
 "nbformat": 4,
 "nbformat_minor": 5
}
